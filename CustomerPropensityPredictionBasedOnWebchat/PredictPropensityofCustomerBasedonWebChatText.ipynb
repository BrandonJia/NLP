{
 "cells": [
  {
   "cell_type": "markdown",
   "metadata": {},
   "source": [
    "# Boot up"
   ]
  },
  {
   "cell_type": "code",
   "execution_count": 21,
   "metadata": {},
   "outputs": [],
   "source": [
    "# load libraies or connect API\n",
    "import numpy as np\n",
    "import pandas as pd\n",
    "import string\n",
    "from nltk.stem.wordnet import WordNetLemmatizer\n",
    "from nltk import sent_tokenize,word_tokenize\n",
    "from collections import Counter\n",
    "import gensim\n",
    "from gensim import corpora\n",
    "import pyLDAvis.gensim\n",
    "import nltk\n",
    "from wordcloud import WordCloud\n",
    "from sklearn.feature_extraction.text import CountVectorizer\n",
    "from sklearn.model_selection import train_test_split\n",
    "import re"
   ]
  },
  {
   "cell_type": "code",
   "execution_count": 22,
   "metadata": {},
   "outputs": [
    {
     "data": {
      "text/html": [
       "<div>\n",
       "<style scoped>\n",
       "    .dataframe tbody tr th:only-of-type {\n",
       "        vertical-align: middle;\n",
       "    }\n",
       "\n",
       "    .dataframe tbody tr th {\n",
       "        vertical-align: top;\n",
       "    }\n",
       "\n",
       "    .dataframe thead th {\n",
       "        text-align: right;\n",
       "    }\n",
       "</style>\n",
       "<table border=\"1\" class=\"dataframe\">\n",
       "  <thead>\n",
       "    <tr style=\"text-align: right;\">\n",
       "      <th></th>\n",
       "      <th>Transcript</th>\n",
       "      <th>Transaction Exists</th>\n",
       "    </tr>\n",
       "  </thead>\n",
       "  <tbody>\n",
       "    <tr>\n",
       "      <th>0</th>\n",
       "      <td>05:25:48 info: Thank you for choosing to chat ...</td>\n",
       "      <td>False</td>\n",
       "    </tr>\n",
       "    <tr>\n",
       "      <th>1</th>\n",
       "      <td>05:23:25 info: Thank you for choosing to chat ...</td>\n",
       "      <td>False</td>\n",
       "    </tr>\n",
       "    <tr>\n",
       "      <th>2</th>\n",
       "      <td>05:21:56 info: Thank you for choosing to chat ...</td>\n",
       "      <td>False</td>\n",
       "    </tr>\n",
       "    <tr>\n",
       "      <th>3</th>\n",
       "      <td>05:20:59 info: Thank you for choosing to chat ...</td>\n",
       "      <td>False</td>\n",
       "    </tr>\n",
       "    <tr>\n",
       "      <th>4</th>\n",
       "      <td>05:19:41 info: Thank you for choosing to chat ...</td>\n",
       "      <td>False</td>\n",
       "    </tr>\n",
       "  </tbody>\n",
       "</table>\n",
       "</div>"
      ],
      "text/plain": [
       "                                          Transcript  Transaction Exists\n",
       "0  05:25:48 info: Thank you for choosing to chat ...               False\n",
       "1  05:23:25 info: Thank you for choosing to chat ...               False\n",
       "2  05:21:56 info: Thank you for choosing to chat ...               False\n",
       "3  05:20:59 info: Thank you for choosing to chat ...               False\n",
       "4  05:19:41 info: Thank you for choosing to chat ...               False"
      ]
     },
     "execution_count": 22,
     "metadata": {},
     "output_type": "execute_result"
    }
   ],
   "source": [
    "# Load the data\n",
    "path = ''\n",
    "file = ''\n",
    "day1 = pd.read_csv(path+file, skiprows = 8, usecols = ['Transcript','Transaction Exists'])\n",
    "day1.head()"
   ]
  },
  {
   "cell_type": "markdown",
   "metadata": {},
   "source": [
    "# Text proprocessing"
   ]
  },
  {
   "cell_type": "code",
   "execution_count": 23,
   "metadata": {},
   "outputs": [],
   "source": [
    "# Tokenize text to sentences\n",
    "day1[\"sent_token\"] = day1.Transcript.apply(sent_tokenize)"
   ]
  },
  {
   "cell_type": "code",
   "execution_count": 24,
   "metadata": {},
   "outputs": [],
   "source": [
    "day1['idx'] = day1.sent_token.apply(lambda sents: ['You are now chatting with' in i for i in sents].index(True))"
   ]
  },
  {
   "cell_type": "code",
   "execution_count": 25,
   "metadata": {},
   "outputs": [],
   "source": [
    "day1['Content'] = day1.apply(lambda row: \" \".join([ j for i,j in enumerate(row.sent_token) if (i > row.idx)]), axis = 1)"
   ]
  },
  {
   "cell_type": "code",
   "execution_count": 26,
   "metadata": {},
   "outputs": [],
   "source": [
    "# define stopwords and lemmatize words\n",
    "from nltk.corpus import stopwords\n",
    "stop = set(stopwords.words('english'))\n",
    "extra = (\"to\",\"cc\",\"subject\",\"http\",\"from\",\"sent\", \"ect\", \"u\", \"fwd\", \"www\", \"com\",'thank',\"u\",\"choosing\", \n",
    "         \"chat\",\"shortly\",\"agent\",\"assisting\",\"info\",\"yes\",\"hello\",\"sleep\",\"number\",\"span\")\n",
    "stop.update(extra)\n",
    "#stop.update(names)\n",
    "exclude = set(string.punctuation)\n",
    "lemma = WordNetLemmatizer()"
   ]
  },
  {
   "cell_type": "code",
   "execution_count": 27,
   "metadata": {},
   "outputs": [
    {
     "name": "stderr",
     "output_type": "stream",
     "text": [
      "<input>:3: DeprecationWarning: invalid escape sequence \\d\n",
      "<input>:3: DeprecationWarning: invalid escape sequence \\d\n",
      "<input>:3: DeprecationWarning: invalid escape sequence \\d\n",
      "<ipython-input-27-97acdda03c5a>:3: DeprecationWarning: invalid escape sequence \\d\n",
      "  text = re.sub('(\\d+:\\d+:\\d+)', '', str(text))\n"
     ]
    }
   ],
   "source": [
    "# define a function to process text\n",
    "def clean(text, stop):\n",
    "    text = re.sub('(\\d+:\\d+:\\d+)', '', str(text))\n",
    "    text = text.rstrip()\n",
    "    #name_free = \" \".join([i for i in text.split() if i not in names])\n",
    "    stop_free = \" \".join([i for i in text.lower().split() if((i not in stop) and (not i.isdigit()))])\n",
    "    punc_free = ''.join(i for i in stop_free if i not in exclude)\n",
    "    normalized = \" \".join(lemma.lemmatize(i) for i in punc_free.split()) \n",
    "    digit_free = \" \".join([i for i in normalized.split() if((i not in stop) and (not i.isdigit()))])     \n",
    "    return digit_free"
   ]
  },
  {
   "cell_type": "code",
   "execution_count": 28,
   "metadata": {},
   "outputs": [
    {
     "data": {
      "text/plain": [
       "[]"
      ]
     },
     "execution_count": 28,
     "metadata": {},
     "output_type": "execute_result"
    }
   ],
   "source": [
    "text = day1.Transcript[4]\n",
    "stop_free = \" \".join([word for word in text.split() if word not in stop])\n",
    "digit_free = \" \".join([word for word in stop_free.split() if not word.isdigit()])\n",
    "[i for i in digit_free.split() if i.isdigit()]"
   ]
  },
  {
   "cell_type": "code",
   "execution_count": 29,
   "metadata": {},
   "outputs": [
    {
     "name": "stdout",
     "output_type": "stream",
     "text": [
      "['keith', 'smith', 'crystal', 'spanthank', 'visiting', 'name', 'crystal', 'number®', 'setting', 'may', 'assist', 'youspan', 'keith', 'smith', 'air', 'pressure', 'controlled', 'keith', 'smith', 'keith', 'smith', 'anybody', 'crystal', 'keith', 'apology', 'wait', 'air', 'pressure', 'controlled', 'pump', 'keith', 'smith', 'control', 'pump', 'keith', 'smith', 'wired', 'wireless', 'controller', 'crystal', 'one', 'moment', 'get', 'information', 'crystal', 'apology', 'keith', 'took', 'look', 'could', 'find', 'specific', 'information', 'may', 'proprietary', 'give', 'call', 'see', 'somebody', 'could', 'give', 'information', 'keith', 'smith', 'never', 'mind', 'keith', 'smith', 'good', 'bye']\n"
     ]
    }
   ],
   "source": [
    "text_clean=[]\n",
    "for text in day1['Content']:\n",
    "    text_clean.append(clean(text, stop).split())    \n",
    "print(text_clean[2])"
   ]
  },
  {
   "cell_type": "code",
   "execution_count": 30,
   "metadata": {},
   "outputs": [],
   "source": [
    "def clean_with_stop(text):\n",
    "    return clean(text, stop)\n",
    "day1['wordlist'] = day1.Content.apply(clean_with_stop)"
   ]
  },
  {
   "cell_type": "code",
   "execution_count": 31,
   "metadata": {},
   "outputs": [
    {
     "data": {
      "text/html": [
       "<div>\n",
       "<style scoped>\n",
       "    .dataframe tbody tr th:only-of-type {\n",
       "        vertical-align: middle;\n",
       "    }\n",
       "\n",
       "    .dataframe tbody tr th {\n",
       "        vertical-align: top;\n",
       "    }\n",
       "\n",
       "    .dataframe thead th {\n",
       "        text-align: right;\n",
       "    }\n",
       "</style>\n",
       "<table border=\"1\" class=\"dataframe\">\n",
       "  <thead>\n",
       "    <tr style=\"text-align: right;\">\n",
       "      <th></th>\n",
       "      <th>Transcript</th>\n",
       "      <th>Transaction Exists</th>\n",
       "      <th>sent_token</th>\n",
       "      <th>idx</th>\n",
       "      <th>Content</th>\n",
       "      <th>wordlist</th>\n",
       "    </tr>\n",
       "  </thead>\n",
       "  <tbody>\n",
       "    <tr>\n",
       "      <th>0</th>\n",
       "      <td>05:25:48 info: Thank you for choosing to chat ...</td>\n",
       "      <td>False</td>\n",
       "      <td>[05:25:48 info: Thank you for choosing to chat...</td>\n",
       "      <td>5</td>\n",
       "      <td>05:28:06 info: \\r\\n05:28:06 info: \\r\\n05:28:13...</td>\n",
       "      <td>michael x12 king need order sheet don’t know n...</td>\n",
       "    </tr>\n",
       "    <tr>\n",
       "      <th>1</th>\n",
       "      <td>05:23:25 info: Thank you for choosing to chat ...</td>\n",
       "      <td>False</td>\n",
       "      <td>[05:23:25 info: Thank you for choosing to chat...</td>\n",
       "      <td>2</td>\n",
       "      <td>05:25:28 Brian: &lt;span&gt;Thank you for visiting S...</td>\n",
       "      <td>brian spanthank visiting name brian number® se...</td>\n",
       "    </tr>\n",
       "    <tr>\n",
       "      <th>2</th>\n",
       "      <td>05:21:56 info: Thank you for choosing to chat ...</td>\n",
       "      <td>False</td>\n",
       "      <td>[05:21:56 info: Thank you for choosing to chat...</td>\n",
       "      <td>2</td>\n",
       "      <td>05:22:59 Keith Smith: Hello\\r\\n05:22:59 Crysta...</td>\n",
       "      <td>keith smith crystal spanthank visiting name cr...</td>\n",
       "    </tr>\n",
       "    <tr>\n",
       "      <th>3</th>\n",
       "      <td>05:20:59 info: Thank you for choosing to chat ...</td>\n",
       "      <td>False</td>\n",
       "      <td>[05:20:59 info: Thank you for choosing to chat...</td>\n",
       "      <td>2</td>\n",
       "      <td>05:21:00 info: \\r\\n05:21:09 Crystal: &lt;span&gt;Tha...</td>\n",
       "      <td>crystal spanthank visiting name crystal number...</td>\n",
       "    </tr>\n",
       "    <tr>\n",
       "      <th>4</th>\n",
       "      <td>05:19:41 info: Thank you for choosing to chat ...</td>\n",
       "      <td>False</td>\n",
       "      <td>[05:19:41 info: Thank you for choosing to chat...</td>\n",
       "      <td>2</td>\n",
       "      <td>05:20:24 info: \\r\\n05:20:24 info: \\r\\n05:20:27...</td>\n",
       "      <td>mark spanthank visiting name mark number® sett...</td>\n",
       "    </tr>\n",
       "  </tbody>\n",
       "</table>\n",
       "</div>"
      ],
      "text/plain": [
       "                                          Transcript  Transaction Exists  \\\n",
       "0  05:25:48 info: Thank you for choosing to chat ...               False   \n",
       "1  05:23:25 info: Thank you for choosing to chat ...               False   \n",
       "2  05:21:56 info: Thank you for choosing to chat ...               False   \n",
       "3  05:20:59 info: Thank you for choosing to chat ...               False   \n",
       "4  05:19:41 info: Thank you for choosing to chat ...               False   \n",
       "\n",
       "                                          sent_token  idx  \\\n",
       "0  [05:25:48 info: Thank you for choosing to chat...    5   \n",
       "1  [05:23:25 info: Thank you for choosing to chat...    2   \n",
       "2  [05:21:56 info: Thank you for choosing to chat...    2   \n",
       "3  [05:20:59 info: Thank you for choosing to chat...    2   \n",
       "4  [05:19:41 info: Thank you for choosing to chat...    2   \n",
       "\n",
       "                                             Content  \\\n",
       "0  05:28:06 info: \\r\\n05:28:06 info: \\r\\n05:28:13...   \n",
       "1  05:25:28 Brian: <span>Thank you for visiting S...   \n",
       "2  05:22:59 Keith Smith: Hello\\r\\n05:22:59 Crysta...   \n",
       "3  05:21:00 info: \\r\\n05:21:09 Crystal: <span>Tha...   \n",
       "4  05:20:24 info: \\r\\n05:20:24 info: \\r\\n05:20:27...   \n",
       "\n",
       "                                            wordlist  \n",
       "0  michael x12 king need order sheet don’t know n...  \n",
       "1  brian spanthank visiting name brian number® se...  \n",
       "2  keith smith crystal spanthank visiting name cr...  \n",
       "3  crystal spanthank visiting name crystal number...  \n",
       "4  mark spanthank visiting name mark number® sett...  "
      ]
     },
     "execution_count": 31,
     "metadata": {},
     "output_type": "execute_result"
    }
   ],
   "source": [
    "day1.head()"
   ]
  },
  {
   "cell_type": "code",
   "execution_count": 32,
   "metadata": {},
   "outputs": [],
   "source": [
    "day1.to_csv('day20190131_clean.csv')"
   ]
  },
  {
   "cell_type": "markdown",
   "metadata": {},
   "source": [
    "# LDA"
   ]
  },
  {
   "cell_type": "code",
   "execution_count": 33,
   "metadata": {},
   "outputs": [],
   "source": [
    "dictionary = corpora.Dictionary(text_clean)\n",
    "corpus = [dictionary.doc2bow(text) for text in text_clean]"
   ]
  },
  {
   "cell_type": "code",
   "execution_count": 34,
   "metadata": {},
   "outputs": [
    {
     "name": "stdout",
     "output_type": "stream",
     "text": [
      "(0, '0.036*\"angela\" + 0.023*\"mike\" + 0.017*\"visiting\" + 0.015*\"bed\" + 0.012*\"teddy\"')\n",
      "(1, '0.019*\"brenda\" + 0.014*\"teddy\" + 0.013*\"visiting\" + 0.012*\"torus\" + 0.011*\"bed\"')\n",
      "(2, '0.017*\"aaron\" + 0.014*\"max\" + 0.013*\"bed\" + 0.013*\"julie\" + 0.012*\"base\"')\n",
      "(3, '0.030*\"tony\" + 0.015*\"form\" + 0.013*\"vlad\" + 0.011*\"visiting\" + 0.011*\"jamason\"')\n",
      "(4, '0.017*\"bed\" + 0.012*\"aaron\" + 0.010*\"julie\" + 0.010*\"christopher\" + 0.008*\"may\"')\n"
     ]
    }
   ],
   "source": [
    "ldamodel = gensim.models.ldamodel.LdaModel(corpus, num_topics=5, id2word=dictionary, passes=5)\n",
    "\n",
    "topics = ldamodel.print_topics(num_words=5)\n",
    "\n",
    "for topic in topics:\n",
    "    print(topic)"
   ]
  },
  {
   "cell_type": "code",
   "execution_count": 35,
   "metadata": {},
   "outputs": [],
   "source": [
    "def get_topic_details(ldamodel, corpus):\n",
    "    topic_details_df = pd.DataFrame()\n",
    "    for i, row in enumerate(ldamodel[corpus]):\n",
    "        row = sorted(row, key=lambda x: (x[1]), reverse=True)\n",
    "        for j, (topic_num, prop_topic) in enumerate(row):\n",
    "            if j == 0:  # => dominant topic\n",
    "                wp = ldamodel.show_topic(topic_num)\n",
    "                topic_details_df = topic_details_df.append(pd.Series([topic_num, prop_topic]), ignore_index=True)\n",
    "    topic_details_df.columns = ['Dominant_Topic', '% Score']\n",
    "    return topic_details_df"
   ]
  },
  {
   "cell_type": "code",
   "execution_count": 36,
   "metadata": {},
   "outputs": [],
   "source": [
    "day_with_cluster = pd.concat([day1, get_topic_details(ldamodel, corpus)], axis=1, sort=False)"
   ]
  },
  {
   "cell_type": "code",
   "execution_count": 37,
   "metadata": {},
   "outputs": [],
   "source": [
    "day_with_cluster.to_csv('day20190131_with_cluster.csv')"
   ]
  },
  {
   "cell_type": "code",
   "execution_count": 38,
   "metadata": {},
   "outputs": [
    {
     "data": {
      "text/html": [
       "<div>\n",
       "<style scoped>\n",
       "    .dataframe tbody tr th:only-of-type {\n",
       "        vertical-align: middle;\n",
       "    }\n",
       "\n",
       "    .dataframe tbody tr th {\n",
       "        vertical-align: top;\n",
       "    }\n",
       "\n",
       "    .dataframe thead th {\n",
       "        text-align: right;\n",
       "    }\n",
       "</style>\n",
       "<table border=\"1\" class=\"dataframe\">\n",
       "  <thead>\n",
       "    <tr style=\"text-align: right;\">\n",
       "      <th></th>\n",
       "      <th>Dominant_Topic</th>\n",
       "      <th>% Score</th>\n",
       "      <th>Original text</th>\n",
       "    </tr>\n",
       "  </thead>\n",
       "  <tbody>\n",
       "    <tr>\n",
       "      <th>0</th>\n",
       "      <td>3.0</td>\n",
       "      <td>0.774483</td>\n",
       "      <td>[michael, x12, king, need, order, sheet, don’t...</td>\n",
       "    </tr>\n",
       "    <tr>\n",
       "      <th>1</th>\n",
       "      <td>0.0</td>\n",
       "      <td>0.704739</td>\n",
       "      <td>[brian, spanthank, visiting, name, brian, numb...</td>\n",
       "    </tr>\n",
       "    <tr>\n",
       "      <th>2</th>\n",
       "      <td>4.0</td>\n",
       "      <td>0.988537</td>\n",
       "      <td>[keith, smith, crystal, spanthank, visiting, n...</td>\n",
       "    </tr>\n",
       "    <tr>\n",
       "      <th>3</th>\n",
       "      <td>4.0</td>\n",
       "      <td>0.992099</td>\n",
       "      <td>[crystal, spanthank, visiting, name, crystal, ...</td>\n",
       "    </tr>\n",
       "    <tr>\n",
       "      <th>4</th>\n",
       "      <td>3.0</td>\n",
       "      <td>0.868073</td>\n",
       "      <td>[mark, spanthank, visiting, name, mark, number...</td>\n",
       "    </tr>\n",
       "  </tbody>\n",
       "</table>\n",
       "</div>"
      ],
      "text/plain": [
       "   Dominant_Topic   % Score                                      Original text\n",
       "0             3.0  0.774483  [michael, x12, king, need, order, sheet, don’t...\n",
       "1             0.0  0.704739  [brian, spanthank, visiting, name, brian, numb...\n",
       "2             4.0  0.988537  [keith, smith, crystal, spanthank, visiting, n...\n",
       "3             4.0  0.992099  [crystal, spanthank, visiting, name, crystal, ...\n",
       "4             3.0  0.868073  [mark, spanthank, visiting, name, mark, number..."
      ]
     },
     "execution_count": 38,
     "metadata": {},
     "output_type": "execute_result"
    }
   ],
   "source": [
    "contents = pd.DataFrame({'Original text': text_clean})\n",
    "topic_details = pd.concat([get_topic_details(ldamodel, corpus), contents], axis=1)\n",
    "topic_details.head()"
   ]
  },
  {
   "cell_type": "code",
   "execution_count": 39,
   "metadata": {},
   "outputs": [
    {
     "name": "stdout",
     "output_type": "stream",
     "text": [
      "   Dominant_Topic   % Score  \\\n",
      "0             3.0  0.772819   \n",
      "1             0.0  0.704739   \n",
      "2             4.0  0.988537   \n",
      "3             4.0  0.992102   \n",
      "4             3.0  0.867576   \n",
      "\n",
      "                                       Original text  flag  \n",
      "0  [michael, x12, king, need, order, sheet, don’t...     1  \n",
      "1  [brian, spanthank, visiting, name, brian, numb...     0  \n",
      "2  [keith, smith, crystal, spanthank, visiting, n...     0  \n",
      "3  [crystal, spanthank, visiting, name, crystal, ...     0  \n",
      "4  [mark, spanthank, visiting, name, mark, number...     1  \n"
     ]
    }
   ],
   "source": [
    "contents = pd.DataFrame({'Original text':text_clean})\n",
    "topic_details = pd.concat([get_topic_details(ldamodel, corpus), contents], axis=1)\n",
    "\n",
    "topic_details['flag'] = np.where((topic_details['Dominant_Topic'] == 3.0), 1, 0)\n",
    "print(topic_details.head())"
   ]
  },
  {
   "cell_type": "code",
   "execution_count": 40,
   "metadata": {
    "scrolled": true
   },
   "outputs": [
    {
     "name": "stderr",
     "output_type": "stream",
     "text": [
      "C:\\Anaconda3\\lib\\site-packages\\pyLDAvis\\_prepare.py:257: FutureWarning: Sorting because non-concatenation axis is not aligned. A future version\n",
      "of pandas will change to not sort by default.\n",
      "\n",
      "To accept the future behavior, pass 'sort=True'.\n",
      "\n",
      "To retain the current behavior and silence the warning, pass sort=False\n",
      "\n",
      "  return pd.concat([default_term_info] + list(topic_dfs))\n"
     ]
    },
    {
     "data": {
      "text/html": [
       "\n",
       "<link rel=\"stylesheet\" type=\"text/css\" href=\"https://cdn.rawgit.com/bmabey/pyLDAvis/files/ldavis.v1.0.0.css\">\n",
       "\n",
       "\n",
       "<div id=\"ldavis_el1234414890517063765971337904\"></div>\n",
       "<script type=\"text/javascript\">\n",
       "\n",
       "var ldavis_el1234414890517063765971337904_data = {\"mdsDat\": {\"x\": [-0.006877252010297425, -0.049182702591451896, 0.03514042096388841, -0.05972369150486985, 0.0806432251427307], \"y\": [-0.09785168747654809, 0.04147763581095617, 0.01205534586494397, 0.01874089599903427, 0.025577809801613734], \"topics\": [1, 2, 3, 4, 5], \"cluster\": [1, 1, 1, 1, 1], \"Freq\": [23.568660736083984, 21.630460739135742, 21.52069664001465, 16.652666091918945, 16.627519607543945]}, \"tinfo\": {\"Category\": [\"Default\", \"Default\", \"Default\", \"Default\", \"Default\", \"Default\", \"Default\", \"Default\", \"Default\", \"Default\", \"Default\", \"Default\", \"Default\", \"Default\", \"Default\", \"Default\", \"Default\", \"Default\", \"Default\", \"Default\", \"Default\", \"Default\", \"Default\", \"Default\", \"Default\", \"Default\", \"Default\", \"Default\", \"Default\", \"Default\", \"Topic1\", \"Topic1\", \"Topic1\", \"Topic1\", \"Topic1\", \"Topic1\", \"Topic1\", \"Topic1\", \"Topic1\", \"Topic1\", \"Topic1\", \"Topic1\", \"Topic1\", \"Topic1\", \"Topic1\", \"Topic1\", \"Topic1\", \"Topic1\", \"Topic1\", \"Topic1\", \"Topic1\", \"Topic1\", \"Topic1\", \"Topic1\", \"Topic1\", \"Topic1\", \"Topic1\", \"Topic1\", \"Topic1\", \"Topic1\", \"Topic1\", \"Topic1\", \"Topic1\", \"Topic1\", \"Topic1\", \"Topic1\", \"Topic1\", \"Topic1\", \"Topic1\", \"Topic1\", \"Topic1\", \"Topic1\", \"Topic1\", \"Topic1\", \"Topic1\", \"Topic1\", \"Topic1\", \"Topic1\", \"Topic1\", \"Topic1\", \"Topic1\", \"Topic1\", \"Topic1\", \"Topic1\", \"Topic1\", \"Topic1\", \"Topic1\", \"Topic1\", \"Topic1\", \"Topic1\", \"Topic1\", \"Topic1\", \"Topic1\", \"Topic1\", \"Topic1\", \"Topic1\", \"Topic1\", \"Topic1\", \"Topic1\", \"Topic1\", \"Topic1\", \"Topic1\", \"Topic1\", \"Topic1\", \"Topic1\", \"Topic1\", \"Topic1\", \"Topic2\", \"Topic2\", \"Topic2\", \"Topic2\", \"Topic2\", \"Topic2\", \"Topic2\", \"Topic2\", \"Topic2\", \"Topic2\", \"Topic2\", \"Topic2\", \"Topic2\", \"Topic2\", \"Topic2\", \"Topic2\", \"Topic2\", \"Topic2\", \"Topic2\", \"Topic2\", \"Topic2\", \"Topic2\", \"Topic2\", \"Topic2\", \"Topic2\", \"Topic2\", \"Topic2\", \"Topic2\", \"Topic2\", \"Topic2\", \"Topic2\", \"Topic2\", \"Topic2\", \"Topic2\", \"Topic2\", \"Topic2\", \"Topic2\", \"Topic2\", \"Topic2\", \"Topic2\", \"Topic2\", \"Topic2\", \"Topic2\", \"Topic2\", \"Topic2\", \"Topic2\", \"Topic2\", \"Topic2\", \"Topic2\", \"Topic2\", \"Topic2\", \"Topic2\", \"Topic2\", \"Topic2\", \"Topic2\", \"Topic2\", \"Topic2\", \"Topic2\", \"Topic2\", \"Topic2\", \"Topic2\", \"Topic2\", \"Topic2\", \"Topic2\", \"Topic2\", \"Topic2\", \"Topic2\", \"Topic2\", \"Topic2\", \"Topic2\", \"Topic2\", \"Topic2\", \"Topic2\", \"Topic2\", \"Topic2\", \"Topic3\", \"Topic3\", \"Topic3\", \"Topic3\", \"Topic3\", \"Topic3\", \"Topic3\", \"Topic3\", \"Topic3\", \"Topic3\", \"Topic3\", \"Topic3\", \"Topic3\", \"Topic3\", \"Topic3\", \"Topic3\", \"Topic3\", \"Topic3\", \"Topic3\", \"Topic3\", \"Topic3\", \"Topic3\", \"Topic3\", \"Topic3\", \"Topic3\", \"Topic3\", \"Topic3\", \"Topic3\", \"Topic3\", \"Topic3\", \"Topic3\", \"Topic3\", \"Topic3\", \"Topic3\", \"Topic3\", \"Topic3\", \"Topic3\", \"Topic3\", \"Topic3\", \"Topic3\", \"Topic3\", \"Topic3\", \"Topic3\", \"Topic3\", \"Topic3\", \"Topic3\", \"Topic3\", \"Topic3\", \"Topic3\", \"Topic3\", \"Topic3\", \"Topic3\", \"Topic3\", \"Topic3\", \"Topic3\", \"Topic3\", \"Topic3\", \"Topic3\", \"Topic3\", \"Topic3\", \"Topic3\", \"Topic3\", \"Topic3\", \"Topic3\", \"Topic3\", \"Topic3\", \"Topic3\", \"Topic3\", \"Topic3\", \"Topic3\", \"Topic3\", \"Topic3\", \"Topic4\", \"Topic4\", \"Topic4\", \"Topic4\", \"Topic4\", \"Topic4\", \"Topic4\", \"Topic4\", \"Topic4\", \"Topic4\", \"Topic4\", \"Topic4\", \"Topic4\", \"Topic4\", \"Topic4\", \"Topic4\", \"Topic4\", \"Topic4\", \"Topic4\", \"Topic4\", \"Topic4\", \"Topic4\", \"Topic4\", \"Topic4\", \"Topic4\", \"Topic4\", \"Topic4\", \"Topic4\", \"Topic4\", \"Topic4\", \"Topic4\", \"Topic4\", \"Topic4\", \"Topic4\", \"Topic4\", \"Topic4\", \"Topic4\", \"Topic4\", \"Topic4\", \"Topic4\", \"Topic4\", \"Topic4\", \"Topic4\", \"Topic4\", \"Topic4\", \"Topic4\", \"Topic4\", \"Topic4\", \"Topic4\", \"Topic4\", \"Topic4\", \"Topic4\", \"Topic4\", \"Topic4\", \"Topic4\", \"Topic4\", \"Topic4\", \"Topic4\", \"Topic4\", \"Topic4\", \"Topic4\", \"Topic4\", \"Topic4\", \"Topic4\", \"Topic4\", \"Topic4\", \"Topic4\", \"Topic4\", \"Topic4\", \"Topic4\", \"Topic4\", \"Topic4\", \"Topic4\", \"Topic4\", \"Topic4\", \"Topic4\", \"Topic5\", \"Topic5\", \"Topic5\", \"Topic5\", \"Topic5\", \"Topic5\", \"Topic5\", \"Topic5\", \"Topic5\", \"Topic5\", \"Topic5\", \"Topic5\", \"Topic5\", \"Topic5\", \"Topic5\", \"Topic5\", \"Topic5\", \"Topic5\", \"Topic5\", \"Topic5\", \"Topic5\", \"Topic5\", \"Topic5\", \"Topic5\", \"Topic5\", \"Topic5\", \"Topic5\", \"Topic5\", \"Topic5\", \"Topic5\", \"Topic5\", \"Topic5\", \"Topic5\", \"Topic5\", \"Topic5\", \"Topic5\", \"Topic5\", \"Topic5\", \"Topic5\", \"Topic5\", \"Topic5\", \"Topic5\", \"Topic5\", \"Topic5\", \"Topic5\", \"Topic5\", \"Topic5\", \"Topic5\", \"Topic5\", \"Topic5\", \"Topic5\", \"Topic5\", \"Topic5\", \"Topic5\", \"Topic5\", \"Topic5\", \"Topic5\", \"Topic5\", \"Topic5\", \"Topic5\", \"Topic5\", \"Topic5\", \"Topic5\", \"Topic5\", \"Topic5\", \"Topic5\", \"Topic5\", \"Topic5\", \"Topic5\", \"Topic5\", \"Topic5\", \"Topic5\", \"Topic5\", \"Topic5\", \"Topic5\", \"Topic5\", \"Topic5\", \"Topic5\", \"Topic5\"], \"Freq\": [1590.0, 997.0, 773.0, 1043.0, 1183.0, 709.0, 820.0, 529.0, 1154.0, 896.0, 921.0, 781.0, 571.0, 608.0, 478.0, 908.0, 491.0, 362.0, 731.0, 111.0, 413.0, 114.0, 83.0, 91.0, 112.0, 1157.0, 114.0, 77.0, 462.0, 76.0, 51.448219299316406, 31.105018615722656, 32.01913070678711, 25.577510833740234, 18.24680519104004, 38.28200149536133, 17.307432174682617, 27.306814193725586, 24.563533782958984, 33.6312370300293, 17.243696212768555, 76.2489242553711, 21.742795944213867, 17.210758209228516, 13.573263168334961, 27.146841049194336, 13.546954154968262, 27.09487533569336, 32.39925003051758, 23.395946502685547, 11.692984580993652, 20.642410278320312, 17.93956756591797, 22.425413131713867, 17.007795333862305, 14.305484771728516, 12.515616416931152, 51.85456466674805, 11.610939979553223, 17.841358184814453, 1429.1309814453125, 30.348766326904297, 102.69574737548828, 24.068696975708008, 53.99374771118164, 909.4119873046875, 73.92315673828125, 60.53746795654297, 30.37554931640625, 29.927003860473633, 43.931968688964844, 31.849416732788086, 391.8663024902344, 34.90184783935547, 256.688232421875, 495.5247802734375, 394.70928955078125, 60.71417236328125, 67.11344909667969, 670.0123291015625, 104.84381866455078, 71.59852600097656, 322.57012939453125, 437.0581359863281, 268.66009521484375, 180.0703125, 603.910888671875, 284.37054443359375, 228.02113342285156, 265.56329345703125, 239.29443359375, 282.8783874511719, 289.2377624511719, 303.126708984375, 316.3104248046875, 292.53466796875, 300.5762023925781, 307.7821044921875, 199.1723175048828, 291.33355712890625, 268.35797119140625, 226.8648223876953, 169.7816162109375, 262.296142578125, 257.8160400390625, 248.98870849609375, 208.2216339111328, 75.87187194824219, 74.64373016357422, 35.754180908203125, 52.259281158447266, 33.01087951660156, 15.616503715515137, 38.92230224609375, 14.706713676452637, 24.18247413635254, 24.17347526550293, 19.862735748291016, 28.489641189575195, 22.450082778930664, 19.84666633605957, 38.77953338623047, 19.81461524963379, 15.431106567382812, 24.845809936523438, 19.70014762878418, 23.973827362060547, 15.392477035522461, 18.811120986938477, 23.925823211669922, 19.657909393310547, 15.3760986328125, 18.780345916748047, 19.623233795166016, 12.779913902282715, 14.484445571899414, 15.32596492767334, 35.44544219970703, 18.678586959838867, 28.585893630981445, 23.5593318939209, 29.131669998168945, 528.7554931640625, 415.4214172363281, 30.17533302307129, 639.9638061523438, 38.577762603759766, 29.783174514770508, 471.518798828125, 89.61955261230469, 31.27346420288086, 52.8060417175293, 79.37313842773438, 30.882314682006836, 428.7595520019531, 200.21475219726562, 495.1288146972656, 319.6442565917969, 181.64891052246094, 89.37532043457031, 257.2896728515625, 283.3731384277344, 271.91937255859375, 163.30027770996094, 280.2262268066406, 230.8607940673828, 361.8865051269531, 289.4344482421875, 274.73583984375, 169.94268798828125, 228.3741455078125, 233.1371307373047, 211.84523010253906, 233.7859344482422, 185.51060485839844, 235.95118713378906, 197.00636291503906, 152.63330078125, 179.0110626220703, 167.8882598876953, 151.12857055664062, 172.05760192871094, 43.881412506103516, 81.49524688720703, 37.479671478271484, 24.220800399780273, 26.943443298339844, 20.407119750976562, 37.9511604309082, 69.42849731445312, 17.554737091064453, 61.76934051513672, 21.183406829833984, 22.067075729370117, 20.217832565307617, 22.93559455871582, 19.23902130126953, 28.368885040283203, 16.477643966674805, 33.817115783691406, 53.928070068359375, 19.159626007080078, 37.42353057861328, 50.11235809326172, 16.36666488647461, 13.61358642578125, 15.408455848693848, 12.682632446289062, 10.846097946166992, 12.640915870666504, 20.7622013092041, 32.468345642089844, 708.6316528320312, 44.71415710449219, 45.475433349609375, 34.9653434753418, 25.52097511291504, 70.01841735839844, 24.655168533325195, 40.903648376464844, 452.5592956542969, 253.10438537597656, 34.31680679321289, 521.6080322265625, 363.99688720703125, 38.01942825317383, 158.368896484375, 301.5976867675781, 390.44091796875, 310.39678955078125, 463.0972595214844, 257.66009521484375, 330.8660888671875, 291.4467468261719, 417.1292724609375, 244.39447021484375, 273.09173583984375, 159.8470458984375, 235.0764923095703, 213.37322998046875, 192.2519073486328, 219.82574462890625, 253.1978302001953, 234.46112060546875, 237.59263610839844, 222.8608856201172, 238.6414794921875, 192.83604431152344, 195.13162231445312, 162.66651916503906, 201.63900756835938, 195.59603881835938, 203.65103149414062, 174.97610473632812, 43.18860626220703, 21.504262924194336, 13.255380630493164, 16.753040313720703, 15.821864128112793, 19.340782165527344, 14.055901527404785, 20.16868019104004, 13.152877807617188, 27.175189971923828, 19.262134552001953, 20.0780029296875, 57.561790466308594, 13.070242881774902, 14.800622940063477, 43.517940521240234, 43.36731719970703, 15.588075637817383, 11.227972984313965, 11.228300094604492, 51.73719787597656, 11.21963119506836, 46.583709716796875, 15.511497497558594, 18.092531204223633, 10.292520523071289, 11.129220962524414, 8.560025215148926, 10.263322830200195, 23.106731414794922, 42.47554016113281, 99.6049575805664, 32.37583923339844, 77.07691192626953, 21.557661056518555, 29.611160278320312, 15.190372467041016, 85.4675521850586, 41.128990173339844, 23.772010803222656, 43.228397369384766, 276.41766357421875, 37.22535705566406, 29.226764678955078, 294.2113342285156, 327.9259033203125, 490.6538391113281, 55.317623138427734, 213.4646759033203, 157.2692108154297, 123.61050415039062, 130.9368133544922, 211.9678497314453, 207.25399780273438, 234.37939453125, 218.6825408935547, 211.8224334716797, 209.61663818359375, 207.7279052734375, 177.9190216064453, 129.57208251953125, 202.7372283935547, 210.5397491455078, 168.102783203125, 176.41641235351562, 113.94207000732422, 169.67625427246094, 227.0612335205078, 124.52033233642578, 165.23768615722656, 186.2555389404297, 152.10574340820312, 155.1294708251953, 158.83982849121094, 148.3076934814453, 124.64766693115234, 52.89113235473633, 52.176700592041016, 30.129871368408203, 22.699846267700195, 34.48741912841797, 34.47582244873047, 60.519466400146484, 32.35630798339844, 55.703609466552734, 17.041593551635742, 24.14070701599121, 16.075347900390625, 18.72311782836914, 18.722900390625, 11.570148468017578, 13.342597961425781, 13.335103034973145, 13.29058837890625, 15.056417465209961, 23.887691497802734, 9.721808433532715, 9.707533836364746, 12.349493026733398, 14.10037899017334, 16.737098693847656, 10.564582824707031, 14.055281639099121, 10.546658515930176, 8.771164894104004, 15.777726173400879, 14.896729469299316, 857.5106201171875, 35.31211471557617, 98.81377410888672, 48.09718704223633, 28.258073806762695, 361.40484619140625, 32.254764556884766, 28.574203491210938, 46.598628997802734, 17.16341209411621, 430.2593994140625, 24.942279815673828, 228.59103393554688, 178.67630004882812, 222.18191528320312, 55.40369415283203, 302.6995849609375, 87.37525177001953, 42.55220413208008, 39.940834045410156, 73.72159576416016, 219.15591430664062, 310.6754150390625, 216.6328582763672, 154.16522216796875, 239.55506896972656, 278.3743591308594, 182.2598876953125, 159.2722930908203, 141.68447875976562, 163.63104248046875, 181.75027465820312, 153.47911071777344, 113.59266662597656, 129.54168701171875, 114.11467742919922, 164.5283660888672, 151.81900024414062, 148.46092224121094, 159.6661376953125, 166.34597778320312, 151.28512573242188, 144.91238403320312, 144.05877685546875, 133.9691925048828, 142.58676147460938, 144.74945068359375, 134.86416625976562], \"Term\": [\"angela\", \"tony\", \"brenda\", \"aaron\", \"mike\", \"max\", \"julie\", \"vlad\", \"teddy\", \"jamason\", \"form\", \"torus\", \"katie\", \"christopher\", \"secure\", \"amani\", \"payment\", \"creditdebit\", \"karen\", \"suzanne\", \"paco\", \"tia\", \"molla\", \"fritz\", \"anthony\", \"base\", \"brown\", \"gian\", \"ile\", \"rawlins\", \"chad\", \"gulley\", \"betz\", \"terry\", \"kathi\", \"fox\", \"fitzwater\", \"sonja\", \"waian\", \"donald\", \"denise\", \"wilson\", \"lenny\", \"veenie\", \"mcmullen\", \"albertsen\", \"grimmett\", \"janette\", \"bowden\", \"phan\", \"henry\", \"lynette\", \"reilly\", \"lorre\", \"oberts\", \"colburn\", \"ernie\", \"preston\", \"baksa\", \"zabasky\", \"angela\", \"joseph\", \"anthony\", \"winnie\", \"jeff\", \"mike\", \"richard\", \"kelly\", \"garza\", \"nell\", \"jason\", \"lu\", \"karen\", \"golden\", \"ile\", \"teddy\", \"jamason\", \"lost\", \"kim\", \"visiting\", \"i8\", \"connection\", \"survey\", \"spanthank\", \"sleepnumbercom\", \"split\", \"bed\", \"know\", \"store\", \"let\", \"king\", \"youspan\", \"number\\u00ae\", \"ok\", \"name\", \"assist\", \"setting\", \"may\", \"end\", \"one\", \"please\", \"right\", \"x\", \"base\", \"mattress\", \"would\", \"get\", \"gian\", \"rawlins\", \"hudgins\", \"cuellar\", \"lawrence\", \"elena\", \"christonya\", \"hengel\", \"furlong\", \"sylvia\", \"brennan\", \"jodi\", \"sheloski\", \"walker\", \"doty\", \"julien\", \"saeger\", \"rosanna\", \"marieke\", \"burrow\", \"carriker\", \"szpak\", \"chuck\", \"christian\", \"brunner\", \"kiehne\", \"caitlin\", \"wernerehl\", \"hiiggins\", \"leeanne\", \"ann\", \"fanelli\", \"gingery\", \"mitchell\", \"ward\", \"max\", \"katie\", \"lorna\", \"aaron\", \"davis\", \"shulie\", \"julie\", \"david\", \"marylou\", \"shannon\", \"mary\", \"stephanie\", \"base\", \"im\", \"bed\", \"mattress\", \"hi\", \"box\", \"get\", \"name\", \"setting\", \"adjustable\", \"may\", \"youspan\", \"visiting\", \"spanthank\", \"would\", \"christopher\", \"number\\u00ae\", \"assist\", \"like\", \"ok\", \"karen\", \"one\", \"need\", \"back\", \"help\", \"right\", \"thanks\", \"please\", \"tanya\", \"molla\", \"gomez\", \"holly\", \"kanne\", \"toussaint\", \"elizabeth\", \"rebekah\", \"reynolds\", \"efseaff\", \"erica\", \"emily\", \"hufnagle\", \"noni\", \"murray\", \"jennings\", \"cauduro\", \"gregory\", \"douglas\", \"erb\", \"sharon\", \"lori\", \"pisarek\", \"cecelia\", \"lasren\", \"sznitken\", \"wainner\", \"alleyne\", \"kreimer\", \"magoon\", \"brenda\", \"wise\", \"charles\", \"story\", \"charmaine\", \"lauren\", \"macklin\", \"debra\", \"torus\", \"paco\", \"heather\", \"teddy\", \"amani\", \"theresa\", \"today\", \"form\", \"would\", \"please\", \"visiting\", \"survey\", \"spanthank\", \"may\", \"bed\", \"help\", \"one\", \"payment\", \"order\", \"know\", \"sleepnumbercom\", \"like\", \"name\", \"assist\", \"setting\", \"get\", \"mattress\", \"let\", \"need\", \"end\", \"number\\u00ae\", \"youspan\", \"ok\", \"right\", \"nicholson\", \"debelak\", \"tsibel\", \"jaet\", \"kruser\", \"nappi\", \"pankau\", \"bruno\", \"luna\", \"matt\", \"roberta\", \"cole\", \"teresa\", \"art\", \"keith\", \"fiorito\", \"alison\", \"aujene\", \"coulette\", \"rico\", \"madeleine\", \"rodrigo\", \"kathy\", \"hsieh\", \"celia\", \"jacob\", \"stowe\", \"sherred\", \"kuespert\", \"omar\", \"frank\", \"suzanne\", \"moger\", \"fritz\", \"gail\", \"weber\", \"linnell\", \"brown\", \"peter\", \"mustful\", \"linda\", \"christopher\", \"joshua\", \"stephen\", \"julie\", \"aaron\", \"bed\", \"brian\", \"torus\", \"vlad\", \"flexfit\", \"head\", \"amani\", \"help\", \"may\", \"mattress\", \"setting\", \"base\", \"one\", \"jamason\", \"remote\", \"name\", \"would\", \"like\", \"assist\", \"well\", \"number\\u00ae\", \"visiting\", \"adjustable\", \"get\", \"spanthank\", \"need\", \"youspan\", \"ok\", \"order\", \"please\", \"klingler\", \"christy\", \"reed\", \"aduya\", \"mckenna\", \"lebeis\", \"sara\", \"baker\", \"fernando\", \"anabella\", \"crick\", \"gonzalez\", \"brokaw\", \"kristina\", \"rick\", \"banko\", \"parris\", \"burton\", \"stef\", \"rene\", \"myriam\", \"dustin\", \"connie\", \"eble\", \"kris\", \"jared\", \"koeberlein\", \"reuling\", \"willey\", \"wurzel\", \"souza\", \"tony\", \"meghan\", \"tia\", \"gary\", \"erika\", \"vlad\", \"brandy\", \"samantha\", \"michele\", \"mcintyre\", \"form\", \"kevin\", \"secure\", \"creditdebit\", \"payment\", \"jon\", \"jamason\", \"visitor\", \"anderson\", \"s3\", \"viewed\", \"order\", \"visiting\", \"ok\", \"thanks\", \"would\", \"bed\", \"get\", \"right\", \"email\", \"amani\", \"mattress\", \"need\", \"delivery\", \"store\", \"available\", \"one\", \"help\", \"like\", \"name\", \"spanthank\", \"base\", \"please\", \"assist\", \"survey\", \"setting\", \"may\", \"number\\u00ae\"], \"Total\": [1590.0, 997.0, 773.0, 1043.0, 1183.0, 709.0, 820.0, 529.0, 1154.0, 896.0, 921.0, 781.0, 571.0, 608.0, 478.0, 908.0, 491.0, 362.0, 731.0, 111.0, 413.0, 114.0, 83.0, 91.0, 112.0, 1157.0, 114.0, 77.0, 462.0, 76.0, 53.94126510620117, 32.732242584228516, 33.702816009521484, 26.960922241210938, 19.25774574279785, 40.452945709228516, 18.294818878173828, 28.896703720092773, 26.014822006225586, 35.64198303222656, 18.29591941833496, 80.95249938964844, 23.117279052734375, 18.299028396606445, 14.444599151611328, 28.893268585205078, 14.443435668945312, 28.892513275146484, 34.641265869140625, 25.042503356933594, 12.516805648803711, 22.153226852416992, 19.253440856933594, 24.074073791503906, 18.27932357788086, 15.401571273803711, 13.476692199707031, 55.89047622680664, 12.520242691040039, 19.26020050048828, 1590.7000732421875, 32.77297592163086, 112.5254898071289, 26.004364013671875, 59.637245178222656, 1183.857421875, 84.73281860351562, 69.27445220947266, 33.755104064941406, 33.75960159301758, 52.64531707763672, 36.65773391723633, 731.459228515625, 41.32543182373047, 462.60009765625, 1154.28759765625, 896.933837890625, 84.39810943603516, 96.60643005371094, 2032.7327880859375, 179.13571166992188, 108.45417022705078, 892.4801025390625, 1409.9600830078125, 725.51025390625, 413.79827880859375, 2285.197021484375, 839.77880859375, 633.4337768554688, 803.4818115234375, 711.0072631835938, 957.572998046875, 1023.7913818359375, 1116.036376953125, 1215.2847900390625, 1080.608154296875, 1164.4974365234375, 1258.583984375, 587.946044921875, 1172.6326904296875, 1020.3724365234375, 822.1182861328125, 466.51007080078125, 1157.421630859375, 1216.5345458984375, 1364.26025390625, 1035.8697509765625, 77.78382110595703, 76.885498046875, 37.55350875854492, 54.977779388427734, 34.81636047363281, 16.493684768676758, 41.226959228515625, 15.579176902770996, 25.66315269470215, 25.65559959411621, 21.085634231567383, 30.247591018676758, 23.836000442504883, 21.080425262451172, 41.23816680908203, 21.077869415283203, 16.501821517944336, 26.586198806762695, 21.090526580810547, 25.66951560974121, 16.500383377075195, 20.167312622070312, 25.67326545715332, 21.09366798400879, 16.505962371826172, 20.176830291748047, 21.098125457763672, 13.753944396972656, 15.591132164001465, 16.50870132446289, 38.53323745727539, 20.185535430908203, 31.209409713745117, 25.69351577758789, 32.132591247558594, 709.330322265625, 571.5149536132812, 34.00810241699219, 1043.370849609375, 45.12347412109375, 34.0433464050293, 820.8892211914062, 124.0855712890625, 36.802757263183594, 69.43064880371094, 118.12669372558594, 36.80036163330078, 1157.421630859375, 484.6279296875, 2285.197021484375, 1216.5345458984375, 566.8018798828125, 196.36065673828125, 1035.8697509765625, 1215.2847900390625, 1164.4974365234375, 526.6517333984375, 1258.583984375, 957.572998046875, 2032.7327880859375, 1409.9600830078125, 1364.26025390625, 608.2467041015625, 1023.7913818359375, 1080.608154296875, 928.45849609375, 1116.036376953125, 731.459228515625, 1172.6326904296875, 894.6263427734375, 570.13232421875, 966.2452392578125, 822.1182861328125, 621.9977416992188, 1020.3724365234375, 44.80511474609375, 83.7640380859375, 38.9302864074707, 25.304061889648438, 28.215978622436523, 21.402000427246094, 39.88410186767578, 72.9863510131836, 18.482316970825195, 65.20024871826172, 22.376728057861328, 23.343801498413086, 21.399974822998047, 24.320960998535156, 20.427425384521484, 30.136552810668945, 17.510324478149414, 35.962249755859375, 57.36452865600586, 20.42388916015625, 39.895755767822266, 53.493343353271484, 17.502668380737305, 14.58478832244873, 16.53167724609375, 13.6128568649292, 11.66667366027832, 13.605132102966309, 22.372262954711914, 34.998374938964844, 773.7122802734375, 48.62892532348633, 49.5668830871582, 38.852638244628906, 28.172687530517578, 84.05207824707031, 27.20541763305664, 47.58176040649414, 781.2092895507812, 413.27471923828125, 40.750335693359375, 1154.28759765625, 908.6925659179688, 49.49505615234375, 358.6874084472656, 921.6010131835938, 1364.26025390625, 1020.3724365234375, 2032.7327880859375, 892.4801025390625, 1409.9600830078125, 1258.583984375, 2285.197021484375, 966.2452392578125, 1172.6326904296875, 491.4419250488281, 948.4808349609375, 839.77880859375, 725.51025390625, 928.45849609375, 1215.2847900390625, 1080.608154296875, 1164.4974365234375, 1035.8697509765625, 1216.5345458984375, 803.4818115234375, 894.6263427734375, 587.946044921875, 1023.7913818359375, 957.572998046875, 1116.036376953125, 822.1182861328125, 45.27142333984375, 22.635616302490234, 14.146254539489746, 17.911701202392578, 16.967622756958008, 20.747411727905273, 15.086055755615234, 21.69137191772461, 14.150848388671875, 29.262142181396484, 20.753698348999023, 21.67643165588379, 62.2703971862793, 14.145431518554688, 16.041736602783203, 47.17595672607422, 47.1769905090332, 16.98829460144043, 12.26200008392334, 12.26273250579834, 56.51072692871094, 12.266555786132812, 50.9339599609375, 16.97779083251953, 19.821094512939453, 11.321287155151367, 12.261651992797852, 9.434999465942383, 11.319397926330566, 25.485763549804688, 47.08318328857422, 111.4217529296875, 35.891029357910156, 91.5733413696289, 24.549026489257812, 34.774559020996094, 16.985370635986328, 114.54981231689453, 51.194942474365234, 28.36376953125, 57.479225158691406, 608.2467041015625, 51.09808349609375, 37.655399322509766, 820.8892211914062, 1043.370849609375, 2285.197021484375, 101.88104248046875, 781.2092895507812, 529.8648681640625, 366.0554504394531, 420.2371826171875, 908.6925659179688, 966.2452392578125, 1258.583984375, 1216.5345458984375, 1164.4974365234375, 1157.421630859375, 1172.6326904296875, 896.933837890625, 508.0083923339844, 1215.2847900390625, 1364.26025390625, 928.45849609375, 1080.608154296875, 413.4551086425781, 1023.7913818359375, 2032.7327880859375, 526.6517333984375, 1035.8697509765625, 1409.9600830078125, 894.6263427734375, 957.572998046875, 1116.036376953125, 948.4808349609375, 1020.3724365234375, 54.736812591552734, 54.730690002441406, 31.687423706054688, 24.000286102294922, 36.47147750854492, 36.49747848510742, 64.27995300292969, 34.52656173706055, 59.49473190307617, 18.24287223815918, 25.8876895904541, 17.281848907470703, 20.147022247314453, 20.15361976623535, 12.47238540649414, 14.394347190856934, 14.391011238098145, 14.389759063720703, 16.30483627319336, 25.882532119750977, 10.552457809448242, 10.553166389465332, 13.434221267700195, 15.342082977294922, 18.21946144104004, 11.512348175048828, 15.337278366088867, 11.511514663696289, 9.5924072265625, 17.262035369873047, 16.299842834472656, 997.7821655273438, 39.264007568359375, 114.21905517578125, 54.73727035522461, 32.660484313964844, 529.8648681640625, 38.37633514404297, 33.5469970703125, 59.466732025146484, 19.18134117126465, 921.6010131835938, 30.54952049255371, 478.28125, 362.8378601074219, 491.4419250488281, 88.70977783203125, 896.933837890625, 184.45870971679688, 66.8420181274414, 61.98484802246094, 157.6134796142578, 948.4808349609375, 2032.7327880859375, 1116.036376953125, 621.9977416992188, 1364.26025390625, 2285.197021484375, 1035.8697509765625, 822.1182861328125, 672.70703125, 908.6925659179688, 1216.5345458984375, 894.6263427734375, 468.61724853515625, 633.4337768554688, 477.2082824707031, 1172.6326904296875, 966.2452392578125, 928.45849609375, 1215.2847900390625, 1409.9600830078125, 1157.421630859375, 1020.3724365234375, 1080.608154296875, 892.4801025390625, 1164.4974365234375, 1258.583984375, 1023.7913818359375], \"loglift\": [30.0, 29.0, 28.0, 27.0, 26.0, 25.0, 24.0, 23.0, 22.0, 21.0, 20.0, 19.0, 18.0, 17.0, 16.0, 15.0, 14.0, 13.0, 12.0, 11.0, 10.0, 9.0, 8.0, 7.0, 6.0, 5.0, 4.0, 3.0, 2.0, 1.0, 1.3978999853134155, 1.3942999839782715, 1.3940000534057617, 1.3926000595092773, 1.3912999629974365, 1.3901000022888184, 1.389799952507019, 1.388700008392334, 1.3877999782562256, 1.3871999979019165, 1.3860000371932983, 1.3854000568389893, 1.3839999437332153, 1.3839000463485718, 1.3830000162124634, 1.3828999996185303, 1.3811999559402466, 1.38100004196167, 1.3782999515533447, 1.3772000074386597, 1.3772000074386597, 1.3746000528335571, 1.3746000528335571, 1.3743000030517578, 1.3732000589370728, 1.371399998664856, 1.3712999820709229, 1.370300054550171, 1.3698999881744385, 1.3687000274658203, 1.3380999565124512, 1.368399977684021, 1.3538000583648682, 1.367900013923645, 1.3458000421524048, 1.18149995803833, 1.3087999820709229, 1.3104000091552734, 1.3398000001907349, 1.3246999979019165, 1.264299988746643, 1.3046000003814697, 0.8210999965667725, 1.2762999534606934, 0.8562999963760376, 0.5996000170707703, 0.6244000196456909, 1.1159000396728516, 1.0809999704360962, 0.3353999853134155, 0.909600019454956, 1.0299999713897705, 0.4275999963283539, 0.27399998903274536, 0.45179998874664307, 0.6132000088691711, 0.1145000010728836, 0.36239999532699585, 0.4235000014305115, 0.33820000290870667, 0.3562999963760376, 0.22589999437332153, 0.18119999766349792, 0.14190000295639038, 0.09920000284910202, 0.13860000669956207, 0.0908999964594841, 0.03689999878406525, 0.3628000020980835, 0.05270000174641609, 0.10970000177621841, 0.15770000219345093, 0.4345000088214874, -0.03920000046491623, -0.1062999963760376, -0.2556999921798706, -0.1590999960899353, 1.5061999559402466, 1.5015000104904175, 1.4819999933242798, 1.4803999662399292, 1.4778000116348267, 1.4764000177383423, 1.4735000133514404, 1.4733999967575073, 1.47160005569458, 1.47160005569458, 1.4713000059127808, 1.4711999893188477, 1.4711999893188477, 1.4708000421524048, 1.469599962234497, 1.4693000316619873, 1.4639999866485596, 1.4634000062942505, 1.4629000425338745, 1.4627000093460083, 1.4615999460220337, 1.4615000486373901, 1.4606000185012817, 1.4606000185012817, 1.4601999521255493, 1.4593000411987305, 1.4586000442504883, 1.4575999975204468, 1.4573999643325806, 1.4566999673843384, 1.4474999904632568, 1.4535000324249268, 1.4433000087738037, 1.4443999528884888, 1.4329999685287476, 1.2373000383377075, 1.2121000289916992, 1.4114999771118164, 1.0422999858856201, 1.3743000030517578, 1.3974000215530396, 0.9765999913215637, 1.2057000398635864, 1.368299961090088, 1.2574000358581543, 1.1334999799728394, 1.3557000160217285, 0.5379999876022339, 0.6470999717712402, 0.0017000000225380063, 0.19449999928474426, 0.39309999346733093, 0.7440000176429749, 0.13830000162124634, 0.07509999722242355, 0.07649999856948853, 0.36010000109672546, 0.02889999933540821, 0.10849999636411667, -0.19470000267028809, -0.052299998700618744, -0.07150000333786011, 0.25589999556541443, 0.030799999833106995, -0.0026000000070780516, 0.05339999869465828, -0.032099999487400055, 0.1590999960899353, -0.0723000019788742, 0.017899999395012856, 0.21320000290870667, -0.15489999949932098, -0.057500001043081284, 0.11630000174045563, -0.24899999797344208, 1.5153000354766846, 1.5087000131607056, 1.4982000589370728, 1.492400050163269, 1.4900000095367432, 1.4886000156402588, 1.4865000247955322, 1.486199975013733, 1.4846999645233154, 1.482100009918213, 1.4814000129699707, 1.4799000024795532, 1.4793000221252441, 1.4774999618530273, 1.476199984550476, 1.4757000207901, 1.4753999710083008, 1.4746999740600586, 1.4744000434875488, 1.4723000526428223, 1.4722000360488892, 1.470900058746338, 1.468999981880188, 1.4672000408172607, 1.4658000469207764, 1.465399980545044, 1.4631999731063843, 1.4625999927520752, 1.4615000486373901, 1.4610999822616577, 1.4483000040054321, 1.4522000551223755, 1.4500000476837158, 1.4306999444961548, 1.4372999668121338, 1.3535000085830688, 1.4377000331878662, 1.3848999738693237, 0.9901999831199646, 1.045799970626831, 1.364300012588501, 0.7418000102043152, 0.6212999820709229, 1.2724000215530396, 0.7185999751091003, 0.41909998655319214, 0.2851000130176544, 0.34610000252723694, 0.05700000002980232, 0.2937999963760376, 0.08659999817609787, 0.07329999655485153, -0.1647000014781952, 0.1615000069141388, 0.07900000363588333, 0.4129999876022339, 0.1412000060081482, 0.16609999537467957, 0.20810000598430634, 0.09549999982118607, -0.03240000084042549, 0.008200000040233135, -0.053300000727176666, -0.0003000000142492354, -0.09260000288486481, 0.10899999737739563, 0.013399999588727951, 0.25119999051094055, -0.08860000222921371, -0.05220000073313713, -0.16500000655651093, -0.011099999770522118, 1.7454999685287476, 1.7412999868392944, 1.7275999784469604, 1.7257000207901, 1.7226999998092651, 1.7223999500274658, 1.7218999862670898, 1.7197999954223633, 1.719499945640564, 1.7186000347137451, 1.718000054359436, 1.715999960899353, 1.7139999866485596, 1.7135000228881836, 1.7121000289916992, 1.711899995803833, 1.708400011062622, 1.7065999507904053, 1.7044999599456787, 1.7044999599456787, 1.704300045967102, 1.7034000158309937, 1.7032999992370605, 1.702299952507019, 1.7014000415802002, 1.6972999572753906, 1.6957000494003296, 1.6952999830245972, 1.694700002670288, 1.694599986076355, 1.6895999908447266, 1.6805000305175781, 1.6894999742507935, 1.620300054550171, 1.6627000570297241, 1.6318999528884888, 1.680899977684021, 1.4996999502182007, 1.573699951171875, 1.6160000562667847, 1.507699966430664, 1.0039000511169434, 1.4758000373840332, 1.539199948310852, 0.7664999961853027, 0.635200023651123, 0.2540999948978424, 1.1819000244140625, 0.4952000081539154, 0.5778999924659729, 0.7070000171661377, 0.6265000104904175, 0.3370000123977661, 0.2531000077724457, 0.11180000007152557, 0.07649999856948853, 0.08829999715089798, 0.08389999717473984, 0.061799999326467514, 0.17489999532699585, 0.4262999892234802, 0.0017999999690800905, -0.07609999924898148, 0.0835999995470047, -0.01979999989271164, 0.5037000179290771, -0.004800000227987766, -0.3993000090122223, 0.3504999876022339, -0.0430000014603138, -0.23160000145435333, 0.020800000056624413, -0.027499999850988388, -0.15700000524520874, -0.06300000101327896, -0.30979999899864197, 1.7597999572753906, 1.7462999820709229, 1.7437000274658203, 1.7383999824523926, 1.7381999492645264, 1.7371000051498413, 1.7338000535964966, 1.729200005531311, 1.7282999753952026, 1.7259999513626099, 1.7242000102996826, 1.7216999530792236, 1.7208000421524048, 1.7204999923706055, 1.718999981880188, 1.7181999683380127, 1.717900037765503, 1.7146999835968018, 1.7144999504089355, 1.7138999700546265, 1.7121000289916992, 1.7106000185012817, 1.7099000215530396, 1.7096999883651733, 1.7092000246047974, 1.7081999778747559, 1.7067999839782715, 1.7065999507904053, 1.7045999765396118, 1.704200029373169, 1.7041000127792358, 1.6426000595092773, 1.687999963760376, 1.6491999626159668, 1.6648000478744507, 1.6492999792099, 1.4114999771118164, 1.620300054550171, 1.6337000131607056, 1.5503000020980835, 1.6829999685287476, 1.0324000120162964, 1.5913000106811523, 1.055799961090088, 1.0857000350952148, 1.0003000497817993, 1.3234000205993652, 0.7078999876976013, 1.0469000339508057, 1.3424999713897705, 1.354599952697754, 1.0342999696731567, 0.32899999618530273, -0.08429999649524689, 0.15479999780654907, 0.3991999924182892, 0.054499998688697815, -0.3111000061035156, 0.05649999901652336, 0.15279999375343323, 0.23639999330043793, 0.07970000058412552, -0.10700000077486038, 0.031300000846385956, 0.37689998745918274, 0.2070000022649765, 0.36340001225471497, -0.16979999840259552, -0.05660000070929527, -0.03909999877214432, -0.23549999296665192, -0.34310001134872437, -0.24070000648498535, -0.15770000219345093, -0.22089999914169312, -0.1023000031709671, -0.3059999942779541, -0.3686000108718872, -0.2328999936580658], \"logprob\": [30.0, 29.0, 28.0, 27.0, 26.0, 25.0, 24.0, 23.0, 22.0, 21.0, 20.0, 19.0, 18.0, 17.0, 16.0, 15.0, 14.0, 13.0, 12.0, 11.0, 10.0, 9.0, 8.0, 7.0, 6.0, 5.0, 4.0, 3.0, 2.0, 1.0, -6.65939998626709, -7.162600040435791, -7.133699893951416, -7.35830020904541, -7.696000099182129, -6.954999923706055, -7.748899936676025, -7.292900085449219, -7.39870023727417, -7.084499835968018, -7.752500057220459, -6.265999794006348, -7.520699977874756, -7.754499912261963, -7.9918999671936035, -7.298699855804443, -7.993800163269043, -7.300600051879883, -7.1219000816345215, -7.447400093078613, -8.140999794006348, -7.5725998878479, -7.7129998207092285, -7.489799976348877, -7.766300201416016, -7.939300060272217, -8.072999954223633, -6.651500225067139, -8.14799976348877, -7.718500137329102, -3.335200071334839, -7.18720006942749, -5.968200206756592, -7.419099807739258, -6.611100196838379, -3.7871999740600586, -6.296999931335449, -6.496699810028076, -7.186399936676025, -7.201200008392334, -6.817299842834473, -7.138999938964844, -4.6290998458862305, -7.047399997711182, -5.05210018157959, -4.394400119781494, -4.621799945831299, -6.493800163269043, -6.393599987030029, -4.092700004577637, -5.947500228881836, -6.32889986038208, -4.823699951171875, -4.519899845123291, -5.006499767303467, -5.406599998474121, -4.196599960327148, -4.949699878692627, -5.170599937438965, -5.018099784851074, -5.122300148010254, -4.954999923706055, -4.932700157165527, -4.885799884796143, -4.843299865722656, -4.92140007019043, -4.8942999839782715, -4.87060022354126, -5.305799961090088, -4.92549991607666, -5.007699966430664, -5.175600051879883, -5.4654998779296875, -5.0304999351501465, -5.047699928283691, -5.082600116729736, -5.26140022277832, -6.185100078582764, -6.201399803161621, -6.9375, -6.558000087738037, -7.017300128936768, -7.7657999992370605, -6.85260009765625, -7.825900077819824, -7.328499794006348, -7.32889986038208, -7.525300025939941, -7.164599895477295, -7.402900218963623, -7.526100158691406, -6.856299877166748, -7.5278000831604, -7.7778000831604, -7.301499843597412, -7.5335001945495605, -7.337200164794922, -7.780300140380859, -7.579699993133545, -7.339200019836426, -7.535699844360352, -7.781400203704834, -7.581399917602539, -7.537499904632568, -7.966300010681152, -7.841100215911865, -7.784599781036377, -6.946199893951416, -7.5868000984191895, -7.161300182342529, -7.354700088500977, -7.142300128936768, -4.243599891662598, -4.484899997711182, -7.107100009918213, -4.052800178527832, -6.861499786376953, -7.120200157165527, -4.3582000732421875, -6.018599987030029, -7.071400165557861, -6.547500133514404, -6.139999866485596, -7.084000110626221, -4.4532999992370605, -5.214799880981445, -4.3094000816345215, -4.747000217437744, -5.312099933624268, -6.021299839019775, -4.964000225067139, -4.867400169372559, -4.908699989318848, -5.418600082397461, -4.878600120544434, -5.072400093078613, -4.622799873352051, -4.846199989318848, -4.898399829864502, -5.378699779510498, -5.083199977874756, -5.0625, -5.158299922943115, -5.059800148010254, -5.291100025177002, -5.05049991607666, -5.230899810791016, -5.486100196838379, -5.326700210571289, -5.390900135040283, -5.495999813079834, -5.366300106048584, -6.72760009765625, -6.108500003814697, -6.885300159454346, -7.321899890899658, -7.2153000831604, -7.493199825286865, -6.872799873352051, -6.268799781799316, -7.643799781799316, -6.385700225830078, -7.455900192260742, -7.414999961853027, -7.502500057220459, -7.376399993896484, -7.55210018157959, -7.16379976272583, -7.707099914550781, -6.988100051879883, -6.521399974822998, -7.556300163269043, -6.8867998123168945, -6.594799995422363, -7.713799953460693, -7.8979997634887695, -7.774199962615967, -7.968900203704834, -8.125300407409668, -7.972099781036377, -7.47599983215332, -7.028800010681152, -3.94569993019104, -6.708799839019775, -6.69189977645874, -6.954699993133545, -7.269599914550781, -6.260300159454346, -7.304100036621094, -6.797900199890137, -4.394199848175049, -4.975299835205078, -6.973400115966797, -4.252200126647949, -4.6118998527526855, -6.870999813079834, -5.444200038909912, -4.800000190734863, -4.541800022125244, -4.771200180053711, -4.371099948883057, -4.957399845123291, -4.707399845123291, -4.834199905395508, -4.4756999015808105, -5.010300159454346, -4.8993000984191895, -5.434899806976318, -5.049200057983398, -5.145999908447266, -5.25029993057251, -5.116199970245361, -4.974899768829346, -5.051799774169922, -5.03849983215332, -5.102499961853027, -5.03410005569458, -5.247200012207031, -5.235400199890137, -5.417399883270264, -5.202600002288818, -5.232999801635742, -5.192699909210205, -5.344399929046631, -6.487100124359131, -7.1844000816345215, -7.6682000160217285, -7.434100151062012, -7.491199970245361, -7.29040002822876, -7.609600067138672, -7.248499870300293, -7.676000118255615, -6.950300216674805, -7.29449987411499, -7.252999782562256, -6.19980001449585, -7.682300090789795, -7.558000087738037, -6.479499816894531, -6.482900142669678, -7.506100177764893, -7.834199905395508, -7.834199905395508, -6.30649995803833, -7.835000038146973, -6.411399841308594, -7.511099815368652, -7.357100009918213, -7.921199798583984, -7.843100070953369, -8.105500221252441, -7.924099922180176, -7.112500190734863, -6.503699779510498, -5.651400089263916, -6.775199890136719, -5.907800197601318, -7.1819000244140625, -6.864500045776367, -7.5320000648498535, -5.804500102996826, -6.535900115966797, -7.084099769592285, -6.486100196838379, -4.63070011138916, -6.6356000900268555, -6.877600193023682, -4.568299770355225, -4.45989990234375, -4.0569000244140625, -6.239500045776367, -4.889200210571289, -5.194699764251709, -5.435500144958496, -5.377900123596191, -4.896200180053711, -4.918700218200684, -4.7957000732421875, -4.864999771118164, -4.896900177001953, -4.907400131225586, -4.916399955749512, -5.071300029754639, -5.388400077819824, -4.940700054168701, -4.9029998779296875, -5.1280999183654785, -5.079800128936768, -5.517000198364258, -5.11870002746582, -4.827400207519531, -5.428199768066406, -5.145299911499023, -5.0254998207092285, -5.228099822998047, -5.208399772644043, -5.184700012207031, -5.253399848937988, -5.42710018157959, -6.282899856567383, -6.296500205993652, -6.845600128173828, -7.128799915313721, -6.7104997634887695, -6.710899829864502, -6.148200035095215, -6.7743000984191895, -6.231100082397461, -7.415500164031982, -7.067200183868408, -7.473800182342529, -7.321400165557861, -7.321400165557861, -7.802700042724609, -7.660200119018555, -7.660699844360352, -7.664100170135498, -7.539299964904785, -7.0777997970581055, -7.976799964904785, -7.9781999588012695, -7.737500190734863, -7.604899883270264, -7.433499813079834, -7.893599987030029, -7.608099937438965, -7.895299911499023, -8.079700469970703, -7.492499828338623, -7.550000190734863, -3.4971001148223877, -6.6869001388549805, -5.657899856567383, -6.377900123596191, -6.909800052642822, -4.361100196838379, -6.777500152587891, -6.898600101470947, -6.409599781036377, -7.408299922943115, -4.186699867248535, -7.034599781036377, -4.819200038909912, -5.0655999183654785, -4.847599983215332, -6.236499786376953, -4.538400173187256, -5.780900001525879, -6.500400066375732, -6.563700199127197, -5.950799942016602, -4.861299991607666, -4.512400150299072, -4.872900009155273, -5.213099956512451, -4.772299766540527, -4.622200012207031, -5.0457000732421875, -5.180500030517578, -5.297500133514404, -5.153500080108643, -5.048500061035156, -5.217599868774414, -5.518499851226807, -5.3871002197265625, -5.513899803161621, -5.1479997634887695, -5.228400230407715, -5.250800132751465, -5.177999973297119, -5.1371002197265625, -5.23199987411499, -5.275000095367432, -5.280900001525879, -5.353499889373779, -5.291200160980225, -5.276100158691406, -5.34689998626709]}, \"token.table\": {\"Topic\": [1, 2, 3, 4, 5, 1, 2, 3, 4, 5, 1, 5, 1, 4, 1, 2, 4, 3, 1, 2, 3, 4, 5, 5, 1, 2, 3, 4, 5, 1, 2, 3, 4, 5, 1, 2, 4, 1, 2, 3, 4, 5, 4, 1, 2, 3, 4, 5, 1, 4, 1, 2, 3, 4, 5, 1, 2, 3, 4, 5, 2, 4, 5, 1, 5, 1, 2, 3, 4, 5, 1, 2, 3, 4, 5, 1, 2, 4, 1, 2, 1, 2, 3, 4, 5, 1, 3, 4, 5, 1, 2, 3, 4, 5, 2, 3, 1, 2, 3, 4, 5, 5, 1, 2, 3, 4, 5, 2, 2, 4, 2, 3, 4, 5, 2, 3, 2, 3, 3, 3, 4, 1, 2, 4, 1, 2, 3, 4, 2, 3, 4, 5, 2, 2, 4, 1, 2, 3, 4, 5, 1, 4, 5, 1, 2, 4, 1, 2, 4, 1, 2, 3, 4, 5, 5, 4, 1, 2, 3, 4, 5, 2, 5, 2, 5, 1, 2, 3, 4, 5, 1, 2, 3, 4, 5, 4, 1, 2, 3, 4, 5, 1, 2, 3, 4, 5, 1, 1, 4, 5, 2, 3, 4, 1, 2, 3, 4, 5, 5, 2, 3, 4, 5, 2, 2, 3, 1, 2, 3, 4, 5, 3, 1, 2, 3, 4, 5, 3, 3, 3, 4, 5, 1, 2, 3, 1, 2, 3, 5, 1, 2, 4, 1, 1, 2, 3, 4, 5, 1, 2, 3, 4, 5, 1, 2, 3, 5, 1, 2, 4, 1, 2, 3, 4, 5, 2, 5, 1, 2, 3, 4, 1, 3, 4, 5, 1, 3, 5, 1, 2, 3, 4, 5, 2, 4, 1, 2, 3, 5, 1, 2, 5, 2, 3, 5, 2, 3, 1, 1, 2, 1, 2, 3, 4, 5, 1, 2, 3, 4, 1, 2, 3, 4, 5, 2, 1, 1, 2, 3, 4, 5, 1, 2, 3, 3, 4, 2, 4, 3, 1, 2, 3, 4, 5, 1, 2, 3, 4, 5, 1, 2, 3, 4, 5, 4, 4, 1, 2, 3, 4, 5, 1, 4, 5, 1, 2, 3, 5, 1, 2, 3, 4, 5, 2, 3, 2, 5, 1, 2, 3, 5, 1, 3, 1, 2, 4, 1, 2, 3, 4, 5, 2, 4, 3, 1, 2, 3, 4, 5, 1, 1, 2, 3, 4, 5, 1, 2, 3, 4, 5, 4, 5, 1, 2, 4, 5, 1, 2, 5, 1, 2, 1, 2, 3, 4, 5, 1, 2, 3, 4, 5, 3, 5, 1, 2, 3, 4, 5, 2, 5, 3, 5, 5, 5, 4, 4, 3, 1, 2, 3, 4, 2, 4, 3, 5, 2, 1, 1, 2, 3, 4, 5, 1, 2, 3, 4, 5, 1, 2, 3, 4, 5, 1, 4, 1, 2, 3, 4, 5, 1, 2, 4, 1, 1, 2, 3, 4, 5, 1, 3, 5, 4, 1, 4, 1, 2, 3, 4, 5, 1, 2, 4, 2, 3, 4, 1, 2, 1, 2, 3, 4, 5, 1, 2, 4, 5, 1, 3, 4, 1, 2, 3, 4, 5, 1, 2, 3, 4, 5, 1, 2, 3, 4, 5, 3, 4, 5, 2, 3, 4, 5, 1, 1, 2, 3, 5, 1, 2, 3, 5, 1, 2, 3, 4, 5, 1, 2, 1, 3, 4, 5, 3, 5, 3, 1, 3, 4, 5, 1, 2, 3, 4, 5, 4, 1, 2, 3, 4, 5, 1, 3, 5, 1, 2, 4, 3, 1, 2, 3, 4, 5, 1, 2, 1, 2, 3, 4, 5, 1, 4, 1, 2, 3, 4, 5, 1, 2, 3, 4, 5, 1, 2, 3, 4, 5, 4, 5, 1, 2, 3, 4, 5, 2, 3, 4, 1, 5, 3, 1, 2, 3, 4, 5, 1, 2, 3, 4, 1, 2, 4, 1, 2, 3, 4, 5, 3, 5, 1, 1, 2, 3, 4, 5, 2, 5, 5, 3, 1, 2, 3, 4, 5, 5, 4, 1, 2, 3, 4, 5, 4, 4, 2, 3, 4, 1, 2, 3, 4, 5, 2, 3, 4, 5, 1, 2, 3, 4, 5, 1, 2, 3, 4, 5, 1, 2, 3, 4, 5, 1, 2, 3, 4, 1, 3, 2, 3, 4, 2, 3, 5, 1, 2, 3, 4, 5, 1, 4, 5, 1, 2, 3, 4, 5, 1, 2, 3, 4, 5, 5, 1, 2, 3, 4, 2, 4, 5, 1, 2, 3, 4, 5, 1, 2, 3, 4, 1, 2, 3, 4, 5, 1, 2, 3, 4, 5, 2, 4, 3, 2, 4, 3, 1, 2, 3, 4, 5, 1, 2, 3, 4, 1, 2, 1, 2, 3, 4, 5, 1, 2, 3, 5, 2, 3, 4, 5, 1, 2, 3, 4, 5, 1, 2, 3, 4, 5, 1, 2, 3, 4, 5, 3, 4, 1, 1, 2, 3, 4, 5, 1, 2, 3, 4, 5, 1, 2, 3, 4, 5, 1, 2, 3, 4, 5, 1, 3, 3, 2, 1, 2, 4, 2, 4, 1, 2, 3, 4, 5, 2, 5, 1, 3, 4, 5, 1, 5, 1, 3, 4, 5, 1, 2, 3, 4, 5, 5, 1, 2, 3, 4, 5, 1, 2, 3, 4, 5, 1, 4], \"Freq\": [0.056547489017248154, 0.6133964657783508, 0.011501183733344078, 0.3143656849861145, 0.0038337279111146927, 0.20696789026260376, 0.3095024526119232, 0.11392728239297867, 0.2373484969139099, 0.13101637363433838, 0.041666168719530106, 0.9583219289779663, 0.9344736933708191, 0.03461013734340668, 0.04239354655146599, 0.021196773275732994, 0.9114612936973572, 0.9555217623710632, 0.03081350214779377, 0.15516799688339233, 0.40057551860809326, 0.23330222070217133, 0.18047907948493958, 0.9318708181381226, 0.044881947338581085, 0.01496064942330122, 0.01496064942330122, 0.2992129921913147, 0.6433079242706299, 0.8983466029167175, 0.008801156654953957, 0.005657886154949665, 0.07418117672204971, 0.01320173405110836, 0.051903244107961655, 0.9083067774772644, 0.025951622053980827, 0.9153481721878052, 0.04443437606096268, 0.008886875584721565, 0.01777375116944313, 0.01777375116944313, 0.919024646282196, 0.2711436152458191, 0.21561932563781738, 0.2165447324514389, 0.16287125647068024, 0.13325829803943634, 0.058864060789346695, 0.9418249726295471, 0.2954684793949127, 0.14878199994564056, 0.2388893961906433, 0.0775342807173729, 0.2388893961906433, 0.27888262271881104, 0.2683587670326233, 0.18241378664970398, 0.14382626116275787, 0.12628647685050964, 0.028963208198547363, 0.028963208198547363, 0.9268226623535156, 0.9584478735923767, 0.9031323194503784, 0.22636522352695465, 0.3706514537334442, 0.09071888774633408, 0.18143777549266815, 0.1304623931646347, 0.264309823513031, 0.21661151945590973, 0.18247880041599274, 0.21486112475395203, 0.1216525286436081, 0.9494755864143372, 0.029671112075448036, 0.029671112075448036, 0.9237537980079651, 0.02886730618774891, 0.17824344336986542, 0.453247606754303, 0.13750208914279938, 0.1018534004688263, 0.12731674313545227, 0.02605772577226162, 0.05211545154452324, 0.07817317545413971, 0.8338472247123718, 0.0025849402882158756, 0.006462350487709045, 0.9163613319396973, 0.0025849402882158756, 0.07367079704999924, 0.9485130906105042, 0.04742565378546715, 0.05889221280813217, 0.35335326194763184, 0.009815368801355362, 0.5398452877998352, 0.03926147520542145, 0.9430674314498901, 0.05237895995378494, 0.03491930663585663, 0.07856843620538712, 0.7420352697372437, 0.08729826658964157, 0.908762514591217, 0.04610127955675125, 0.9220255613327026, 0.9349611401557922, 0.038956716656684875, 0.038956716656684875, 0.9034202694892883, 0.9479514956474304, 0.04739757627248764, 0.9090697765350342, 0.9137466549873352, 0.9599042534828186, 0.05045130103826523, 0.9081234335899353, 0.9454728364944458, 0.018538683652877808, 0.018538683652877808, 0.02017476037144661, 0.02017476037144661, 0.9078642129898071, 0.06052428111433983, 0.035495370626449585, 0.9228796362876892, 0.035495370626449585, 0.035495370626449585, 0.9481518268585205, 0.9459829330444336, 0.024255972355604172, 0.032881394028663635, 0.2794918417930603, 0.05754243955016136, 0.4537632465362549, 0.17591546475887299, 0.01827128417789936, 0.01827128417789936, 0.9501067996025085, 0.038951024413108826, 0.9348245859146118, 0.038951024413108826, 0.9089981913566589, 0.04613305255770683, 0.9226610660552979, 0.6638748645782471, 0.10142532736063004, 0.16596871614456177, 0.027661453932523727, 0.04610242322087288, 0.8932412266731262, 0.8970804214477539, 0.06890130043029785, 0.0826815590262413, 0.3004096746444702, 0.0551210381090641, 0.4933333098888397, 0.03862839937210083, 0.9270815849304199, 0.9458366632461548, 0.018189167603850365, 0.03223581984639168, 0.7253059148788452, 0.01611790992319584, 0.04835372790694237, 0.17729701101779938, 0.0664842426776886, 0.8642951250076294, 0.04432282969355583, 0.022161414846777916, 0.022161414846777916, 0.9719196557998657, 0.021016456186771393, 0.021016456186771393, 0.8616747260093689, 0.042032912373542786, 0.06304936856031418, 0.17711682617664337, 0.2880815863609314, 0.20485801994800568, 0.08749144524335861, 0.24326889216899872, 0.9291689395904541, 0.9539312124252319, 0.028056800365447998, 0.028056800365447998, 0.9457258582115173, 0.024249380454421043, 0.024249380454421043, 0.017432374879717827, 0.017432374879717827, 0.9413482546806335, 0.017432374879717827, 0.9475829005241394, 0.9125227928161621, 0.015337364748120308, 0.950916588306427, 0.015337364748120308, 0.015337364748120308, 0.9700682759284973, 0.025072647258639336, 0.9527605772018433, 0.20662784576416016, 0.1917625218629837, 0.24527764320373535, 0.14716659486293793, 0.2110874354839325, 0.9424343109130859, 0.33846643567085266, 0.13606691360473633, 0.27723631262779236, 0.08334098011255264, 0.16498112678527832, 0.9302831292152405, 0.9384750127792358, 0.09185411781072617, 0.03061803989112377, 0.857305109500885, 0.9646283984184265, 0.9412680864334106, 0.04954042658209801, 0.01680821180343628, 0.01680821180343628, 0.01680821180343628, 0.9412598013877869, 0.042394477874040604, 0.021197238937020302, 0.9326784610748291, 0.9292248487472534, 0.22400978207588196, 0.25952351093292236, 0.04097739979624748, 0.33874648809432983, 0.1365913301706314, 0.08897559344768524, 0.07595477998256683, 0.32769060134887695, 0.04123259335756302, 0.4665793478488922, 0.9393630027770996, 0.024720078334212303, 0.024720078334212303, 0.024720078334212303, 0.021239005029201508, 0.06371701508760452, 0.8920382261276245, 0.08736167103052139, 0.043680835515260696, 0.021840417757630348, 0.8408560752868652, 0.010920208878815174, 0.9351929426193237, 0.03896637260913849, 0.04073481261730194, 0.04073481261730194, 0.04073481261730194, 0.8961659073829651, 0.018269088119268417, 0.05480726435780525, 0.036538176238536835, 0.876916229724884, 0.8887544870376587, 0.059250298887491226, 0.029625149443745613, 0.200797438621521, 0.24810068309307098, 0.2152780294418335, 0.15928643941879272, 0.17569775879383087, 0.9770669341087341, 0.012856143526732922, 0.03204161673784256, 0.929206907749176, 0.03204161673784256, 0.03204161673784256, 0.8469361066818237, 0.04839634895324707, 0.09679269790649414, 0.025686942040920258, 0.9504168629646301, 0.9258268475532532, 0.02780693583190441, 0.9454358220100403, 0.9692984819412231, 0.9470784068107605, 0.030550915747880936, 0.23082202672958374, 0.21654437482357025, 0.07614747434854507, 0.31172871589660645, 0.1618133783340454, 0.09815870225429535, 0.049079351127147675, 0.8343489766120911, 0.024539675563573837, 0.19042783975601196, 0.18525317311286926, 0.25252386927604675, 0.21423132717609406, 0.15730996429920197, 0.9628236293792725, 0.9587110877037048, 0.28581416606903076, 0.3210998475551605, 0.1093856617808342, 0.17289991676807404, 0.11291423439979553, 0.06413902342319489, 0.8979463577270508, 0.9484643340110779, 0.05890047922730446, 0.9424076676368713, 0.9586321115493774, 0.02662866935133934, 0.9345805644989014, 0.5861477851867676, 0.1898002326488495, 0.05024123936891556, 0.07815303653478622, 0.10048247873783112, 0.5555554628372192, 0.21184603869915009, 0.054042357951402664, 0.07133591175079346, 0.10808471590280533, 0.10523536801338196, 0.4126877188682556, 0.18570947647094727, 0.1526944637298584, 0.14444071054458618, 0.8832917809486389, 0.9491002559661865, 0.4403892159461975, 0.011149094440042973, 0.012264003977179527, 0.1984538733959198, 0.33781754970550537, 0.934498131275177, 0.034611042588949203, 0.9554957747459412, 0.8357818126678467, 0.1329652965068817, 0.018995041027665138, 0.018995041027665138, 0.9054744243621826, 0.05030413344502449, 0.033536091446876526, 0.016768045723438263, 0.016768045723438263, 0.0331822969019413, 0.9291042685508728, 0.9256935715675354, 0.03306048363447189, 0.011272714473307133, 0.3494541645050049, 0.011272714473307133, 0.6199992895126343, 0.9153883457183838, 0.06102588772773743, 0.21527226269245148, 0.03914041072130203, 0.7240976095199585, 0.04994583874940872, 0.5749862194061279, 0.007309147156774998, 0.3581482172012329, 0.009745528921484947, 0.9488624930381775, 0.047443125396966934, 0.9569045901298523, 0.5359150171279907, 0.2542862296104431, 0.10116763412952423, 0.028709733858704567, 0.08066067844629288, 0.9346888661384583, 0.01963326707482338, 0.01963326707482338, 0.01963326707482338, 0.9227635264396667, 0.01963326707482338, 0.08223757147789001, 0.7261402010917664, 0.10848359763622284, 0.017497355118393898, 0.06299047917127609, 0.9350608587265015, 0.06233739107847214, 0.8805555105209351, 0.014435335993766785, 0.05774134397506714, 0.05774134397506714, 0.0327337384223938, 0.1309349536895752, 0.818343460559845, 0.04956179857254028, 0.9416741728782654, 0.6935356259346008, 0.010351277887821198, 0.26913321018218994, 0.010351277887821198, 0.010351277887821198, 0.3361428380012512, 0.1378326267004013, 0.22221995890140533, 0.14486490190029144, 0.15892945230007172, 0.018269240856170654, 0.9682697653770447, 0.33818429708480835, 0.15837503969669342, 0.25363820791244507, 0.12622371315956116, 0.1226513460278511, 0.06520061939954758, 0.9128085970878601, 0.9386622905731201, 0.04469820484519005, 0.9330682158470154, 0.9427586793899536, 0.9429724216461182, 0.8834392428398132, 0.9073489308357239, 0.01189738605171442, 0.10707647353410721, 0.832817018032074, 0.04758954420685768, 0.9478302597999573, 0.0287221297621727, 0.027399152517318726, 0.9315711855888367, 0.9086117744445801, 0.9516690969467163, 0.33105915784835815, 0.15806207060813904, 0.2402045726776123, 0.11574624478816986, 0.15557290613651276, 0.1938697248697281, 0.2283354550600052, 0.23695188760757446, 0.18094508349895477, 0.159403994679451, 0.0869879499077797, 0.12178312987089157, 0.03479517996311188, 0.7480963468551636, 0.01739758998155594, 0.05887419357895851, 0.883112907409668, 0.018693914636969566, 0.018693914636969566, 0.9346957206726074, 0.03738782927393913, 0.018693914636969566, 0.058809515088796616, 0.8821427226066589, 0.029404757544398308, 0.9138461351394653, 0.7227650284767151, 0.059243034571409225, 0.07109163701534271, 0.10663746297359467, 0.035545818507671356, 0.872939944267273, 0.10911749303340912, 0.02727937325835228, 0.9186728596687317, 0.9479431509971619, 0.04514015093445778, 0.03675738349556923, 0.03675738349556923, 0.9189346432685852, 0.03675738349556923, 0.03675738349556923, 0.017695754766464233, 0.0530872642993927, 0.9201793074607849, 0.028572754934430122, 0.9143281579017639, 0.028572754934430122, 0.04741465300321579, 0.9482930898666382, 0.12698230147361755, 0.6687734723091125, 0.08465486764907837, 0.016930975019931793, 0.10158584266901016, 0.027171876281499863, 0.8423281908035278, 0.054343752562999725, 0.054343752562999725, 0.03417384624481201, 0.03417384624481201, 0.9226939082145691, 0.21207782626152039, 0.26304227113723755, 0.19645969569683075, 0.1800195425748825, 0.14960528910160065, 0.014097804203629494, 0.7457738518714905, 0.22838443517684937, 0.008458682335913181, 0.002819560933858156, 0.244719460606575, 0.22247223556041718, 0.23121222853660583, 0.185923233628273, 0.11520884186029434, 0.05213399603962898, 0.05213399603962898, 0.886277973651886, 0.02741868607699871, 0.02741868607699871, 0.02741868607699871, 0.9322353601455688, 0.9692203998565674, 0.0254686176776886, 0.0509372353553772, 0.0254686176776886, 0.8914016485214233, 0.016816124320030212, 0.06726449728012085, 0.1345289945602417, 0.7903578877449036, 0.7678289413452148, 0.0456136018037796, 0.11065521836280823, 0.016049230471253395, 0.059128742665052414, 0.0389203242957592, 0.9340878129005432, 0.02786211483180523, 0.05572422966361046, 0.8915876746177673, 0.02786211483180523, 0.9670020937919617, 0.011938297189772129, 0.9301221370697021, 0.10576873272657394, 0.035256244242191315, 0.8461498618125916, 0.9476464986801147, 0.2600213587284088, 0.23286722600460052, 0.20818164944648743, 0.16703903675079346, 0.13165637850761414, 0.9157769083976746, 0.22020366787910461, 0.22020366787910461, 0.21796809136867523, 0.16990333795547485, 0.17102111876010895, 0.88863605260849, 0.08886361122131348, 0.029621202498674393, 0.02208898961544037, 0.02208898961544037, 0.9498265385627747, 0.9456863403320312, 0.28228408098220825, 0.22270162403583527, 0.197305828332901, 0.16604945063591003, 0.1318628042936325, 0.9300125241279602, 0.05470661818981171, 0.2714965343475342, 0.20967058837413788, 0.18278974294662476, 0.14246846735477448, 0.19443809986114502, 0.03923759236931801, 0.9024646282196045, 0.24815954267978668, 0.20125654339790344, 0.23280946910381317, 0.17737863957881927, 0.1407090276479721, 0.20453760027885437, 0.1602562665939331, 0.24776463210582733, 0.15603899955749512, 0.23089554905891418, 0.05807274952530861, 0.11614549905061722, 0.6121835708618164, 0.1427621841430664, 0.07259093970060349, 0.9280092716217041, 0.9033416509628296, 0.07935830950737, 0.09563693404197693, 0.32557255029678345, 0.04680105298757553, 0.45173192024230957, 0.019533179700374603, 0.17579860985279083, 0.8008603453636169, 0.9184385538101196, 0.03993210941553116, 0.9141463041305542, 0.26264920830726624, 0.16856589913368225, 0.30381062626838684, 0.12250428646802902, 0.14210496842861176, 0.9303910732269287, 0.017892135307192802, 0.035784270614385605, 0.017892135307192802, 0.013006353750824928, 0.9754765629768372, 0.013006353750824928, 0.01370119210332632, 0.01370119210332632, 0.9453822374343872, 0.02740238420665264, 0.01370119210332632, 0.031558260321617126, 0.9467478394508362, 0.9348978400230408, 0.14566688239574432, 0.25786975026130676, 0.26377516984939575, 0.2559012770652771, 0.07873885333538055, 0.03863609582185745, 0.9272662997245789, 0.9555649757385254, 0.9739038944244385, 0.8733333945274353, 0.011801802553236485, 0.04720721021294594, 0.04720721021294594, 0.02360360510647297, 0.9621254801750183, 0.8970268368721008, 0.2761159837245941, 0.20435015857219696, 0.2128647416830063, 0.11312241107225418, 0.19340282678604126, 0.9154994487762451, 0.8967472314834595, 0.9403375387191772, 0.03761349990963936, 0.03761349990963936, 0.09679784625768661, 0.09679784625768661, 0.01613297499716282, 0.14519678056240082, 0.6453189849853516, 0.9089905619621277, 0.029808927327394485, 0.08942678570747375, 0.8644589185714722, 0.015556950122117996, 0.015556950122117996, 0.015556950122117996, 0.015556950122117996, 0.9489739537239075, 0.10035935789346695, 0.08154197782278061, 0.30107808113098145, 0.03763476014137268, 0.4787977933883667, 0.25848060846328735, 0.233577162027359, 0.20438000559806824, 0.18205279111862183, 0.12279975414276123, 0.1872372031211853, 0.7633516192436218, 0.028805721551179886, 0.014402860775589943, 0.02506532333791256, 0.9274169206619263, 0.9229736328125, 0.041953347623348236, 0.9538951516151428, 0.8812294602394104, 0.05874863266944885, 0.029374316334724426, 0.3707735240459442, 0.12405062466859818, 0.26464134454727173, 0.06616033613681793, 0.17367087304592133, 0.9343626499176025, 0.034606024622917175, 0.9202542901039124, 0.30993786454200745, 0.2049703449010849, 0.2347584217786789, 0.13191862404346466, 0.11773382872343063, 0.43499454855918884, 0.07733236253261566, 0.15466472506523132, 0.14983145892620087, 0.18366436660289764, 0.9199724197387695, 0.027173645794391632, 0.8423830270767212, 0.027173645794391632, 0.10869458317756653, 0.10622646659612656, 0.7701418995857239, 0.07966984808444977, 0.3599429130554199, 0.11998096853494644, 0.20365190505981445, 0.11208748817443848, 0.20523060858249664, 0.051476556807756424, 0.025738278403878212, 0.9008397459983826, 0.897105872631073, 0.3619128167629242, 0.12101110070943832, 0.2890820801258087, 0.07955359667539597, 0.15014339983463287, 0.06282435357570648, 0.017949815839529037, 0.017949815839529037, 0.8974907994270325, 0.017949815839529037, 0.935468316078186, 0.03897784650325775, 0.9549795389175415, 0.9421185851097107, 0.049585189670324326, 0.9820307493209839, 0.4297022819519043, 0.043316759169101715, 0.45222699642181396, 0.07190582156181335, 0.004331676289439201, 0.04817698523402214, 0.016058994457125664, 0.016058994457125664, 0.93142169713974, 0.9643586874008179, 0.0370907187461853, 0.24276615679264069, 0.24276615679264069, 0.14630277454853058, 0.11897148936986923, 0.2475893199443817, 0.02020403742790222, 0.02020403742790222, 0.7677534222602844, 0.20204037427902222, 0.01751021295785904, 0.07004085183143616, 0.0437755323946476, 0.8667555451393127, 0.09200211614370346, 0.13939714431762695, 0.44049498438835144, 0.20351983606815338, 0.12266948819160461, 0.007015559356659651, 0.12026672810316086, 0.01002222765237093, 0.004008891060948372, 0.8599071502685547, 0.005120266694575548, 0.10624554008245468, 0.5798702239990234, 0.2726542055606842, 0.035841867327690125, 0.9344921112060547, 0.9189711809158325, 0.9290110468864441, 0.09516952186822891, 0.06979098170995712, 0.3235763907432556, 0.04441244527697563, 0.4695029854774475, 0.3296055495738983, 0.17808538675308228, 0.22777219116687775, 0.11167232692241669, 0.1529960036277771, 0.10842534899711609, 0.07589774578809738, 0.3035909831523895, 0.043370138853788376, 0.47165027260780334, 0.0037745472509413958, 0.013210915960371494, 0.0037745472509413958, 0.2963019609451294, 0.6813057661056519, 0.9609906077384949, 0.03843962401151657, 0.9428565502166748, 0.948747456073761, 0.06224210187792778, 0.9025104641914368, 0.03112105093896389, 0.11502662301063538, 0.8626996278762817, 0.28539979457855225, 0.1693049520254135, 0.14511853456497192, 0.27572521567344666, 0.12576939165592194, 0.9451833963394165, 0.9382420778274536, 0.9388221502304077, 0.012352922931313515, 0.012352922931313515, 0.012352922931313515, 0.9229220151901245, 0.03845508396625519, 0.020563893020153046, 0.9253751635551453, 0.020563893020153046, 0.04112778604030609, 0.18251650035381317, 0.201574444770813, 0.28586921095848083, 0.1546625792980194, 0.1759195178747177, 0.9268895387649536, 0.3644079864025116, 0.13504531979560852, 0.2786649465560913, 0.07288160175085068, 0.1500503569841385, 0.2955388128757477, 0.24123486876487732, 0.20468413829803467, 0.16186755895614624, 0.09712053090333939, 0.9345697164535522, 0.05192054063081741], \"Term\": [\"aaron\", \"aaron\", \"aaron\", \"aaron\", \"aaron\", \"adjustable\", \"adjustable\", \"adjustable\", \"adjustable\", \"adjustable\", \"aduya\", \"aduya\", \"albertsen\", \"albertsen\", \"alison\", \"alison\", \"alison\", \"alleyne\", \"amani\", \"amani\", \"amani\", \"amani\", \"amani\", \"anabella\", \"anderson\", \"anderson\", \"anderson\", \"anderson\", \"anderson\", \"angela\", \"angela\", \"angela\", \"angela\", \"angela\", \"ann\", \"ann\", \"ann\", \"anthony\", \"anthony\", \"anthony\", \"anthony\", \"anthony\", \"art\", \"assist\", \"assist\", \"assist\", \"assist\", \"assist\", \"aujene\", \"aujene\", \"available\", \"available\", \"available\", \"available\", \"available\", \"back\", \"back\", \"back\", \"back\", \"back\", \"baker\", \"baker\", \"baker\", \"baksa\", \"banko\", \"base\", \"base\", \"base\", \"base\", \"base\", \"bed\", \"bed\", \"bed\", \"bed\", \"bed\", \"betz\", \"betz\", \"betz\", \"bowden\", \"bowden\", \"box\", \"box\", \"box\", \"box\", \"box\", \"brandy\", \"brandy\", \"brandy\", \"brandy\", \"brenda\", \"brenda\", \"brenda\", \"brenda\", \"brenda\", \"brennan\", \"brennan\", \"brian\", \"brian\", \"brian\", \"brian\", \"brian\", \"brokaw\", \"brown\", \"brown\", \"brown\", \"brown\", \"brown\", \"brunner\", \"bruno\", \"bruno\", \"burrow\", \"burrow\", \"burrow\", \"burton\", \"caitlin\", \"caitlin\", \"carriker\", \"cauduro\", \"cecelia\", \"celia\", \"celia\", \"chad\", \"chad\", \"chad\", \"charles\", \"charles\", \"charles\", \"charles\", \"charmaine\", \"charmaine\", \"charmaine\", \"charmaine\", \"christian\", \"christonya\", \"christonya\", \"christopher\", \"christopher\", \"christopher\", \"christopher\", \"christopher\", \"christy\", \"christy\", \"christy\", \"chuck\", \"chuck\", \"chuck\", \"colburn\", \"cole\", \"cole\", \"connection\", \"connection\", \"connection\", \"connection\", \"connection\", \"connie\", \"coulette\", \"creditdebit\", \"creditdebit\", \"creditdebit\", \"creditdebit\", \"creditdebit\", \"crick\", \"crick\", \"cuellar\", \"cuellar\", \"david\", \"david\", \"david\", \"david\", \"david\", \"davis\", \"davis\", \"davis\", \"davis\", \"davis\", \"debelak\", \"debra\", \"debra\", \"debra\", \"debra\", \"debra\", \"delivery\", \"delivery\", \"delivery\", \"delivery\", \"delivery\", \"denise\", \"donald\", \"donald\", \"donald\", \"doty\", \"doty\", \"doty\", \"douglas\", \"douglas\", \"douglas\", \"douglas\", \"dustin\", \"eble\", \"efseaff\", \"efseaff\", \"efseaff\", \"efseaff\", \"elena\", \"elizabeth\", \"elizabeth\", \"email\", \"email\", \"email\", \"email\", \"email\", \"emily\", \"end\", \"end\", \"end\", \"end\", \"end\", \"erb\", \"erica\", \"erika\", \"erika\", \"erika\", \"ernie\", \"fanelli\", \"fanelli\", \"fernando\", \"fernando\", \"fernando\", \"fernando\", \"fiorito\", \"fiorito\", \"fiorito\", \"fitzwater\", \"flexfit\", \"flexfit\", \"flexfit\", \"flexfit\", \"flexfit\", \"form\", \"form\", \"form\", \"form\", \"form\", \"fox\", \"fox\", \"fox\", \"fox\", \"frank\", \"frank\", \"frank\", \"fritz\", \"fritz\", \"fritz\", \"fritz\", \"fritz\", \"furlong\", \"furlong\", \"gail\", \"gail\", \"gail\", \"gail\", \"gary\", \"gary\", \"gary\", \"gary\", \"garza\", \"garza\", \"garza\", \"get\", \"get\", \"get\", \"get\", \"get\", \"gian\", \"gian\", \"gingery\", \"gingery\", \"gingery\", \"gingery\", \"golden\", \"golden\", \"golden\", \"gomez\", \"gomez\", \"gonzalez\", \"gregory\", \"gregory\", \"grimmett\", \"gulley\", \"gulley\", \"head\", \"head\", \"head\", \"head\", \"head\", \"heather\", \"heather\", \"heather\", \"heather\", \"help\", \"help\", \"help\", \"help\", \"help\", \"hengel\", \"henry\", \"hi\", \"hi\", \"hi\", \"hi\", \"hi\", \"hiiggins\", \"hiiggins\", \"holly\", \"hsieh\", \"hsieh\", \"hudgins\", \"hudgins\", \"hufnagle\", \"i8\", \"i8\", \"i8\", \"i8\", \"i8\", \"ile\", \"ile\", \"ile\", \"ile\", \"ile\", \"im\", \"im\", \"im\", \"im\", \"im\", \"jacob\", \"jaet\", \"jamason\", \"jamason\", \"jamason\", \"jamason\", \"jamason\", \"janette\", \"janette\", \"jared\", \"jason\", \"jason\", \"jason\", \"jason\", \"jeff\", \"jeff\", \"jeff\", \"jeff\", \"jeff\", \"jennings\", \"jennings\", \"jodi\", \"jodi\", \"jon\", \"jon\", \"jon\", \"jon\", \"joseph\", \"joseph\", \"joshua\", \"joshua\", \"joshua\", \"julie\", \"julie\", \"julie\", \"julie\", \"julie\", \"julien\", \"julien\", \"kanne\", \"karen\", \"karen\", \"karen\", \"karen\", \"karen\", \"kathi\", \"kathy\", \"kathy\", \"kathy\", \"kathy\", \"kathy\", \"katie\", \"katie\", \"katie\", \"katie\", \"katie\", \"keith\", \"keith\", \"kelly\", \"kelly\", \"kelly\", \"kelly\", \"kevin\", \"kevin\", \"kevin\", \"kiehne\", \"kiehne\", \"kim\", \"kim\", \"kim\", \"kim\", \"kim\", \"king\", \"king\", \"king\", \"king\", \"king\", \"klingler\", \"klingler\", \"know\", \"know\", \"know\", \"know\", \"know\", \"koeberlein\", \"koeberlein\", \"kreimer\", \"kreimer\", \"kris\", \"kristina\", \"kruser\", \"kuespert\", \"lasren\", \"lauren\", \"lauren\", \"lauren\", \"lauren\", \"lawrence\", \"lawrence\", \"lebeis\", \"lebeis\", \"leeanne\", \"lenny\", \"let\", \"let\", \"let\", \"let\", \"let\", \"like\", \"like\", \"like\", \"like\", \"like\", \"linda\", \"linda\", \"linda\", \"linda\", \"linda\", \"linnell\", \"linnell\", \"lori\", \"lori\", \"lori\", \"lori\", \"lori\", \"lorna\", \"lorna\", \"lorna\", \"lorre\", \"lost\", \"lost\", \"lost\", \"lost\", \"lost\", \"lu\", \"lu\", \"lu\", \"luna\", \"lynette\", \"lynette\", \"macklin\", \"macklin\", \"macklin\", \"macklin\", \"macklin\", \"madeleine\", \"madeleine\", \"madeleine\", \"magoon\", \"magoon\", \"magoon\", \"marieke\", \"marieke\", \"mary\", \"mary\", \"mary\", \"mary\", \"mary\", \"marylou\", \"marylou\", \"marylou\", \"marylou\", \"matt\", \"matt\", \"matt\", \"mattress\", \"mattress\", \"mattress\", \"mattress\", \"mattress\", \"max\", \"max\", \"max\", \"max\", \"max\", \"may\", \"may\", \"may\", \"may\", \"may\", \"mcintyre\", \"mcintyre\", \"mcintyre\", \"mckenna\", \"mckenna\", \"mckenna\", \"mckenna\", \"mcmullen\", \"meghan\", \"meghan\", \"meghan\", \"meghan\", \"michele\", \"michele\", \"michele\", \"michele\", \"mike\", \"mike\", \"mike\", \"mike\", \"mike\", \"mitchell\", \"mitchell\", \"moger\", \"moger\", \"moger\", \"moger\", \"molla\", \"molla\", \"murray\", \"mustful\", \"mustful\", \"mustful\", \"myriam\", \"name\", \"name\", \"name\", \"name\", \"name\", \"nappi\", \"need\", \"need\", \"need\", \"need\", \"need\", \"nell\", \"nell\", \"nell\", \"nicholson\", \"nicholson\", \"nicholson\", \"noni\", \"number\\u00ae\", \"number\\u00ae\", \"number\\u00ae\", \"number\\u00ae\", \"number\\u00ae\", \"oberts\", \"oberts\", \"ok\", \"ok\", \"ok\", \"ok\", \"ok\", \"omar\", \"omar\", \"one\", \"one\", \"one\", \"one\", \"one\", \"order\", \"order\", \"order\", \"order\", \"order\", \"paco\", \"paco\", \"paco\", \"paco\", \"paco\", \"pankau\", \"parris\", \"payment\", \"payment\", \"payment\", \"payment\", \"payment\", \"peter\", \"peter\", \"peter\", \"phan\", \"phan\", \"pisarek\", \"please\", \"please\", \"please\", \"please\", \"please\", \"preston\", \"preston\", \"preston\", \"preston\", \"rawlins\", \"rawlins\", \"rawlins\", \"rebekah\", \"rebekah\", \"rebekah\", \"rebekah\", \"rebekah\", \"reed\", \"reed\", \"reilly\", \"remote\", \"remote\", \"remote\", \"remote\", \"remote\", \"rene\", \"rene\", \"reuling\", \"reynolds\", \"richard\", \"richard\", \"richard\", \"richard\", \"richard\", \"rick\", \"rico\", \"right\", \"right\", \"right\", \"right\", \"right\", \"roberta\", \"rodrigo\", \"rosanna\", \"rosanna\", \"rosanna\", \"s3\", \"s3\", \"s3\", \"s3\", \"s3\", \"saeger\", \"samantha\", \"samantha\", \"samantha\", \"sara\", \"sara\", \"sara\", \"sara\", \"sara\", \"secure\", \"secure\", \"secure\", \"secure\", \"secure\", \"setting\", \"setting\", \"setting\", \"setting\", \"setting\", \"shannon\", \"shannon\", \"shannon\", \"shannon\", \"sharon\", \"sharon\", \"sheloski\", \"sheloski\", \"sherred\", \"shulie\", \"shulie\", \"shulie\", \"sleepnumbercom\", \"sleepnumbercom\", \"sleepnumbercom\", \"sleepnumbercom\", \"sleepnumbercom\", \"sonja\", \"sonja\", \"souza\", \"spanthank\", \"spanthank\", \"spanthank\", \"spanthank\", \"spanthank\", \"split\", \"split\", \"split\", \"split\", \"split\", \"stef\", \"stephanie\", \"stephanie\", \"stephanie\", \"stephanie\", \"stephen\", \"stephen\", \"stephen\", \"store\", \"store\", \"store\", \"store\", \"store\", \"story\", \"story\", \"story\", \"stowe\", \"survey\", \"survey\", \"survey\", \"survey\", \"survey\", \"suzanne\", \"suzanne\", \"suzanne\", \"suzanne\", \"suzanne\", \"sylvia\", \"sylvia\", \"sznitken\", \"szpak\", \"szpak\", \"tanya\", \"teddy\", \"teddy\", \"teddy\", \"teddy\", \"teddy\", \"teresa\", \"teresa\", \"teresa\", \"teresa\", \"terry\", \"terry\", \"thanks\", \"thanks\", \"thanks\", \"thanks\", \"thanks\", \"theresa\", \"theresa\", \"theresa\", \"theresa\", \"tia\", \"tia\", \"tia\", \"tia\", \"today\", \"today\", \"today\", \"today\", \"today\", \"tony\", \"tony\", \"tony\", \"tony\", \"tony\", \"torus\", \"torus\", \"torus\", \"torus\", \"torus\", \"toussaint\", \"tsibel\", \"veenie\", \"viewed\", \"viewed\", \"viewed\", \"viewed\", \"viewed\", \"visiting\", \"visiting\", \"visiting\", \"visiting\", \"visiting\", \"visitor\", \"visitor\", \"visitor\", \"visitor\", \"visitor\", \"vlad\", \"vlad\", \"vlad\", \"vlad\", \"vlad\", \"waian\", \"waian\", \"wainner\", \"walker\", \"ward\", \"ward\", \"ward\", \"weber\", \"weber\", \"well\", \"well\", \"well\", \"well\", \"well\", \"wernerehl\", \"willey\", \"wilson\", \"wilson\", \"wilson\", \"wilson\", \"winnie\", \"winnie\", \"wise\", \"wise\", \"wise\", \"wise\", \"would\", \"would\", \"would\", \"would\", \"would\", \"wurzel\", \"x\", \"x\", \"x\", \"x\", \"x\", \"youspan\", \"youspan\", \"youspan\", \"youspan\", \"youspan\", \"zabasky\", \"zabasky\"]}, \"R\": 30, \"lambda.step\": 0.01, \"plot.opts\": {\"xlab\": \"PC1\", \"ylab\": \"PC2\"}, \"topic.order\": [1, 3, 2, 5, 4]};\n",
       "\n",
       "function LDAvis_load_lib(url, callback){\n",
       "  var s = document.createElement('script');\n",
       "  s.src = url;\n",
       "  s.async = true;\n",
       "  s.onreadystatechange = s.onload = callback;\n",
       "  s.onerror = function(){console.warn(\"failed to load library \" + url);};\n",
       "  document.getElementsByTagName(\"head\")[0].appendChild(s);\n",
       "}\n",
       "\n",
       "if(typeof(LDAvis) !== \"undefined\"){\n",
       "   // already loaded: just create the visualization\n",
       "   !function(LDAvis){\n",
       "       new LDAvis(\"#\" + \"ldavis_el1234414890517063765971337904\", ldavis_el1234414890517063765971337904_data);\n",
       "   }(LDAvis);\n",
       "}else if(typeof define === \"function\" && define.amd){\n",
       "   // require.js is available: use it to load d3/LDAvis\n",
       "   require.config({paths: {d3: \"https://cdnjs.cloudflare.com/ajax/libs/d3/3.5.5/d3.min\"}});\n",
       "   require([\"d3\"], function(d3){\n",
       "      window.d3 = d3;\n",
       "      LDAvis_load_lib(\"https://cdn.rawgit.com/bmabey/pyLDAvis/files/ldavis.v1.0.0.js\", function(){\n",
       "        new LDAvis(\"#\" + \"ldavis_el1234414890517063765971337904\", ldavis_el1234414890517063765971337904_data);\n",
       "      });\n",
       "    });\n",
       "}else{\n",
       "    // require.js not available: dynamically load d3 & LDAvis\n",
       "    LDAvis_load_lib(\"https://cdnjs.cloudflare.com/ajax/libs/d3/3.5.5/d3.min.js\", function(){\n",
       "         LDAvis_load_lib(\"https://cdn.rawgit.com/bmabey/pyLDAvis/files/ldavis.v1.0.0.js\", function(){\n",
       "                 new LDAvis(\"#\" + \"ldavis_el1234414890517063765971337904\", ldavis_el1234414890517063765971337904_data);\n",
       "            })\n",
       "         });\n",
       "}\n",
       "</script>"
      ],
      "text/plain": [
       "<IPython.core.display.HTML object>"
      ]
     },
     "execution_count": 40,
     "metadata": {},
     "output_type": "execute_result"
    }
   ],
   "source": [
    "lda_display = pyLDAvis.gensim.prepare(ldamodel, corpus, dictionary, sort_topics = True)\n",
    "pyLDAvis.display(lda_display)"
   ]
  },
  {
   "cell_type": "code",
   "execution_count": 41,
   "metadata": {},
   "outputs": [],
   "source": [
    "ldamodel.save('ldamodel5.model')\n",
    "ldamodel = gensim.models.ldamodel.LdaModel.load('ldamodel5.model')"
   ]
  },
  {
   "cell_type": "markdown",
   "metadata": {},
   "source": [
    "# NER"
   ]
  },
  {
   "cell_type": "code",
   "execution_count": 42,
   "metadata": {},
   "outputs": [],
   "source": [
    "articles = ' '.join(day1.Content.tolist())"
   ]
  },
  {
   "cell_type": "code",
   "execution_count": 43,
   "metadata": {},
   "outputs": [],
   "source": [
    "sents = sent_tokenize(articles)\n",
    "words = [word_tokenize(sent) for sent in sents]"
   ]
  },
  {
   "cell_type": "code",
   "execution_count": 44,
   "metadata": {},
   "outputs": [],
   "source": [
    "from nltk.corpus import stopwords\n",
    "english_stops = set(stopwords.words('english'))\n",
    "english_stops.update((\"to\",\"u\",\"span\",\"cc\",\"subject\",\"http\",\"from\",\"sent\", \"ect\", \"fwd\", \"www\", \"com\",\"thank\"))\n",
    "\n",
    "lower_tokens = [[t.lower() for t in sent] for sent in words]\n",
    "alpha_only = [[t for t in sent if t.isalpha()] for sent in lower_tokens]\n",
    "no_stops = [[t for t in sent if t not in english_stops] for sent in alpha_only]\n",
    "# Instantiate the WordNetLemmatizer\n",
    "wordnet_lemmatizer = WordNetLemmatizer()\n",
    "\n",
    "# Lemmatize all tokens into a new list: lemmatized\n",
    "lemmatized = [[wordnet_lemmatizer.lemmatize(t) for t in sent] for sent in no_stops]"
   ]
  },
  {
   "cell_type": "code",
   "execution_count": 45,
   "metadata": {},
   "outputs": [
    {
     "name": "stdout",
     "output_type": "stream",
     "text": [
      "[(0, 1), (1, 1), (2, 1), (3, 2), (4, 1), (5, 1), (6, 2), (7, 2), (8, 2), (9, 1), (10, 1)]\n"
     ]
    }
   ],
   "source": [
    "# Import Dictionary\n",
    "from gensim.corpora.dictionary import Dictionary\n",
    "\n",
    "# Create a Dictionary from the articles: dictionary\n",
    "dictionary = Dictionary(lemmatized)\n",
    "# Create a MmCorpus: corpus\n",
    "corpus = [dictionary.doc2bow(article) for article in lemmatized]\n",
    "\n",
    "# Print the first 10 word ids with their frequency counts from the fifth document\n",
    "print(corpus[0])"
   ]
  },
  {
   "cell_type": "code",
   "execution_count": 46,
   "metadata": {},
   "outputs": [
    {
     "name": "stdout",
     "output_type": "stream",
     "text": [
      "sleep 3895\n",
      "bed 2418\n",
      "visiting 2129\n",
      "number 1965\n",
      "info 1722\n"
     ]
    }
   ],
   "source": [
    "from collections import defaultdict\n",
    "import itertools\n",
    "\n",
    "# Save the second document: doc\n",
    "doc = corpus[0]\n",
    "\n",
    "# Sort the doc for frequency: bow_doc\n",
    "bow_doc = sorted(doc, key=lambda w: w[1], reverse=True)\n",
    "\n",
    "# Print the top 5 words of the document alongside the count\n",
    "#for word_id, word_count in bow_doc[:5]:\n",
    "#    print(dictionary.get(word_id), word_count)\n",
    "\n",
    "# Create the defaultdict: total_word_count\n",
    "total_word_count = defaultdict(int)\n",
    "for word_id, word_count in itertools.chain.from_iterable(corpus):\n",
    "    total_word_count[word_id] += word_count\n",
    "\n",
    "# Create a sorted list from the defaultdict: sorted_word_count\n",
    "sorted_word_count = sorted(total_word_count.items(), key=lambda w: w[1], reverse=True) \n",
    "\n",
    "# Print the top 5 words across all documents alongside the count\n",
    "for word, word_count in sorted_word_count[:5]:\n",
    "    print(dictionary.get(word), word_count)"
   ]
  },
  {
   "cell_type": "code",
   "execution_count": 47,
   "metadata": {},
   "outputs": [
    {
     "name": "stdout",
     "output_type": "stream",
     "text": [
      "[(0, 0.2767702600159976), (1, 0.2588908920592622), (2, 0.20382508035720387), (3, 0.28226997597210307), (4, 0.17691966416313293)]\n",
      "\n",
      "\n",
      "\n",
      "michael 0.6216405881466986\n",
      "need 0.3191584986884513\n",
      "order 0.31484396874888315\n",
      "info 0.28226997597210307\n",
      "crystal 0.2767702600159976\n"
     ]
    }
   ],
   "source": [
    "# Import TfidfModel\n",
    "from gensim.models.tfidfmodel import TfidfModel\n",
    "\n",
    "# Create a new TfidfModel using the corpus: tfidf\n",
    "tfidf = TfidfModel(corpus)\n",
    "\n",
    "# Calculate the tfidf weights of doc: tfidf_weights\n",
    "tfidf_weights = tfidf[doc]\n",
    "\n",
    "# Print the first five weights\n",
    "print(tfidf_weights[:5])\n",
    "print('\\n\\n')\n",
    "\n",
    "\n",
    "# Sort the weights from highest to lowest: sorted_tfidf_weights\n",
    "sorted_tfidf_weights = sorted(tfidf_weights, key=lambda w: w[1], reverse=True)\n",
    "\n",
    "# Print the top 5 weighted words\n",
    "for term_id, weight in sorted_tfidf_weights[:5]:\n",
    "    print(dictionary.get(term_id), weight)"
   ]
  },
  {
   "cell_type": "code",
   "execution_count": 68,
   "metadata": {},
   "outputs": [
    {
     "name": "stdout",
     "output_type": "stream",
     "text": [
      "(NE X12/NNP)\n",
      "(NE Flextop/NNP King/NNP)\n",
      "(NE Michael/NNP)\n",
      "(NE Brian/JJ)\n",
      "(NE Sleep/NNP Number/NNP)\n",
      "(NE Brian/NNP)\n",
      "(NE Brian/NNP)\n",
      "(NE Brian/JJ)\n",
      "(NE Please/NNP)\n",
      "(NE Sleep/NNP Number/NNP)\n"
     ]
    }
   ],
   "source": [
    "# Tokenize the article into sentences: sentences\n",
    "sentences = nltk.sent_tokenize(articles)\n",
    "\n",
    "# Tokenize each sentence into words: token_sentences\n",
    "token_sentences = [nltk.word_tokenize(sent) for sent in sentences]\n",
    "\n",
    "# Tag each tokenized sentence into parts of speech: pos_sentences\n",
    "pos_sentences = [nltk.pos_tag(sent) for sent in token_sentences] \n",
    "\n",
    "# Create the named entity chunks: chunked_sentences\n",
    "chunked_sentences = nltk.ne_chunk_sents(pos_sentences, binary = True)\n",
    "\n",
    "# Test for stems of the tree with 'NE' tags\n",
    "count = 0\n",
    "for sent in chunked_sentences:\n",
    "    for chunk in sent:\n",
    "        if hasattr(chunk, \"label\") and chunk.label() == \"NE\":\n",
    "            count += 1\n",
    "            print(chunk)\n",
    "    if count == 10:\n",
    "        break"
   ]
  },
  {
   "cell_type": "code",
   "execution_count": 49,
   "metadata": {},
   "outputs": [
    {
     "name": "stdout",
     "output_type": "stream",
     "text": [
      "['PERSON', 'ORGANIZATION', 'GPE', 'FACILITY', 'GSP', 'LOCATION']\n"
     ]
    }
   ],
   "source": [
    "import matplotlib.pyplot as plt\n",
    "\n",
    "# Create the defaultdict: ner_categories\n",
    "ner_categories = defaultdict(int)\n",
    "\n",
    "chunked_sentences = nltk.ne_chunk_sents(pos_sentences)\n",
    "\n",
    "# Create the nested for loop\n",
    "for sent in chunked_sentences:\n",
    "    for chunk in sent:\n",
    "        if hasattr(chunk, 'label'):\n",
    "            ner_categories[chunk.label()] += 1\n",
    "            \n",
    "# Create a list from the dictionary keys for the chart labels: labels\n",
    "labels = list(ner_categories.keys())\n",
    "\n",
    "print(labels)\n",
    "\n",
    "# Create a list of the values: values\n",
    "values = [ner_categories.get(l) for l in labels]"
   ]
  },
  {
   "cell_type": "code",
   "execution_count": 50,
   "metadata": {},
   "outputs": [
    {
     "data": {
      "image/png": "[encoded data removed]",
      "text/plain": [
       "<Figure size 432x288 with 1 Axes>"
      ]
     },
     "metadata": {},
     "output_type": "display_data"
    }
   ],
   "source": [
    "# Display the chart\n",
    "# Create the pie chart\n",
    "plt.pie(values, labels=labels, autopct='%1.1f%%', startangle=140)\n",
    "plt.show()"
   ]
  },
  {
   "cell_type": "code",
   "execution_count": 69,
   "metadata": {},
   "outputs": [],
   "source": [
    "# Import spacy\n",
    "import spacy\n",
    "\n",
    "# Instantiate the English model: nlp\n",
    "nlp = spacy.load('en',tagger = False,parser=False, matcher=False)\n",
    "\n",
    "# Create a new document: doc\n",
    "doc = nlp(articles[:99999])\n",
    "\n",
    "names = list()\n",
    "# Print all of the found entities and their labels\n",
    "for ent in doc.ents:\n",
    "    if ent.label_ == 'PERSON':\n",
    "        names.append(ent.text)\n",
    "#    print(ent.label_, ent.text)\n",
    "\n",
    "#for ent in doc.ents:\n",
    "#    print(ent.label_)\n",
    "#    break"
   ]
  },
  {
   "cell_type": "code",
   "execution_count": 53,
   "metadata": {},
   "outputs": [
    {
     "name": "stdout",
     "output_type": "stream",
     "text": [
      "['00', '000', '0000', '0063', '00am', '00estimated', '00pm', '00you', '01', '0119']\n"
     ]
    }
   ],
   "source": [
    "# Create a series to store the labels: y\n",
    "y = day1[\"Transaction Exists\"]\n",
    "\n",
    "# Create training and test sets\n",
    "X_train, X_test, y_train, y_test = train_test_split(day1.Transcript, y, test_size = 0.33, random_state = 53)\n",
    "\n",
    "# Initialize a CountVectorizer object: count_vectorizer\n",
    "count_vectorizer = CountVectorizer(stop_words='english')\n",
    "\n",
    "# Transform the training data using only the 'text' column values: count_train \n",
    "count_train = count_vectorizer.fit_transform(X_train)\n",
    "\n",
    "# Transform the test data using only the 'text' column values: count_test \n",
    "count_test = count_vectorizer.transform(X_test)\n",
    "\n",
    "# Print the first 10 features of the count_vectorizer\n",
    "print(count_vectorizer.get_feature_names()[:10])"
   ]
  },
  {
   "cell_type": "code",
   "execution_count": 54,
   "metadata": {},
   "outputs": [
    {
     "name": "stdout",
     "output_type": "stream",
     "text": [
      "['00', '000', '0000', '0063', '00am', '00estimated', '00pm', '00you', '01', '0119'] \n",
      "\n",
      "\n",
      "  (0, 284)\t0.01123202227119435\n",
      "  (0, 363)\t0.05710183394350823\n",
      "  (0, 39)\t0.011306676543397022\n",
      "  (0, 446)\t0.01104921810924109\n",
      "  (0, 498)\t0.011674071134292115\n",
      "  (0, 2561)\t0.043595027316368815\n",
      "  (0, 135)\t0.011158254124044628\n",
      "  (0, 13)\t0.02284073357740329\n",
      "  (0, 177)\t0.2753323442431969\n",
      "  (0, 348)\t0.04783758014141198\n",
      "  (0, 1073)\t0.36205508344213816\n",
      "  (0, 430)\t0.023835647373667106\n",
      "  (0, 311)\t0.009680445059904882\n",
      "  (0, 420)\t0.012001246327721997\n",
      "  (0, 549)\t0.011835506014110726\n",
      "  (0, 3391)\t0.013845403513388607\n",
      "  (0, 4268)\t0.5425077308382008\n",
      "  (0, 3392)\t0.03194435423450073\n",
      "  (0, 0)\t0.021466276932115724\n",
      "  (0, 1215)\t0.3648461906256254\n",
      "  (0, 3162)\t0.36230629765785727\n",
      "  (0, 6720)\t0.038750552202728626\n",
      "  (0, 5145)\t0.03053598051523528\n",
      "  (0, 4591)\t0.01639363986459376\n",
      "  (0, 1497)\t0.09167442592110353\n",
      "  :\t:\n",
      "  (0, 6403)\t0.035272599718319635\n",
      "  (0, 806)\t0.04305838806201238\n",
      "  (0, 2141)\t0.035272599718319635\n",
      "  (0, 1084)\t0.035272599718319635\n",
      "  (0, 2058)\t0.060269760968322206\n",
      "  (0, 6031)\t0.038750552202728626\n",
      "  (0, 4872)\t0.026882949032616166\n",
      "  (0, 6863)\t0.040538465625069485\n",
      "  (0, 6369)\t0.02045117773267825\n",
      "  (0, 3973)\t0.02527011460848542\n",
      "  (0, 115)\t0.011458730450217672\n",
      "  (0, 2764)\t0.03623062976578573\n",
      "  (0, 6032)\t0.040538465625069485\n",
      "  (0, 4126)\t0.04305838806201238\n",
      "  (0, 6669)\t0.06485124937759894\n",
      "  (0, 4061)\t0.01147800145304168\n",
      "  (0, 680)\t0.012043381359832697\n",
      "  (0, 6600)\t0.02070147572387752\n",
      "  (0, 195)\t0.010784714641157338\n",
      "  (0, 383)\t0.010836722421064874\n",
      "  (0, 3281)\t0.026024359401480263\n",
      "  (0, 4429)\t0.02370822221900862\n",
      "  (0, 3257)\t0.014104995963096582\n",
      "  (0, 6889)\t0.017931255295735346\n",
      "  (0, 1717)\t0.029402871469559062\n"
     ]
    }
   ],
   "source": [
    "# Import TfidfVectorizer\n",
    "from sklearn.feature_extraction.text import TfidfVectorizer\n",
    "\n",
    "# Initialize a TfidfVectorizer object: tfidf_vectorizer\n",
    "tfidf_vectorizer = TfidfVectorizer(stop_words = 'english',max_df=0.7)\n",
    "\n",
    "# Transform the training data: tfidf_train \n",
    "tfidf_train = tfidf_vectorizer.fit_transform(X_train)\n",
    "\n",
    "# Transform the test data: tfidf_test \n",
    "tfidf_test = tfidf_vectorizer.transform(X_test)\n",
    "\n",
    "# Print the first 10 features\n",
    "print(tfidf_vectorizer.get_feature_names()[:10],'\\n\\n')\n",
    "\n",
    "# Print the first 5 vectors of the tfidf training data\n",
    "print(tfidf_train[1])"
   ]
  },
  {
   "cell_type": "code",
   "execution_count": 55,
   "metadata": {},
   "outputs": [
    {
     "data": {
      "text/plain": [
       "7135"
      ]
     },
     "execution_count": 55,
     "metadata": {},
     "output_type": "execute_result"
    }
   ],
   "source": [
    "len(count_train.A[0])"
   ]
  },
  {
   "cell_type": "code",
   "execution_count": 56,
   "metadata": {},
   "outputs": [],
   "source": [
    "# Create the CountVectorizer DataFrame: count_df\n",
    "count_df = pd.DataFrame(count_train.A, columns=count_vectorizer.get_feature_names())\n",
    "\n",
    "# Create the TfidfVectorizer DataFrame: tfidf_df\n",
    "tfidf_df = pd.DataFrame(tfidf_train.A,columns = tfidf_vectorizer.get_feature_names())"
   ]
  },
  {
   "cell_type": "code",
   "execution_count": 57,
   "metadata": {},
   "outputs": [
    {
     "name": "stdout",
     "output_type": "stream",
     "text": [
      "0.9756756756756757\n"
     ]
    }
   ],
   "source": [
    "# Import the necessary modules\n",
    "from sklearn import metrics\n",
    "from sklearn.naive_bayes import MultinomialNB\n",
    "\n",
    "# Instantiate a Multinomial Naive Bayes classifier: nb_classifier\n",
    "nb_classifier = MultinomialNB()\n",
    "\n",
    "# Fit the classifier to the training data\n",
    "nb_classifier.fit(count_train,y_train)\n",
    "\n",
    "# Create the predicted tags: pred\n",
    "pred = nb_classifier.predict(count_test)\n",
    "\n",
    "# Calculate the accuracy score: score\n",
    "score = metrics.accuracy_score(y_test, pred)\n",
    "print(score)"
   ]
  },
  {
   "cell_type": "code",
   "execution_count": 58,
   "metadata": {},
   "outputs": [
    {
     "name": "stdout",
     "output_type": "stream",
     "text": [
      "0.9756756756756757\n"
     ]
    }
   ],
   "source": [
    "# Create a Multinomial Naive Bayes classifier: nb_classifier\n",
    "nb_classifier = MultinomialNB()\n",
    "\n",
    "# Fit the classifier to the training data\n",
    "nb_classifier.fit(tfidf_train,y_train)\n",
    "\n",
    "# Create the predicted tags: pred\n",
    "pred = nb_classifier.predict(tfidf_test)\n",
    "\n",
    "# Calculate the accuracy score: score\n",
    "score = metrics.accuracy_score(y_test,pred)\n",
    "print(score)\n",
    "\n",
    "# Calculate the confusion matrix: cm\n",
    "#cm = metrics.confusion_matrix(y_test,pred, labels = ['FAKE','REAL'])\n",
    "#print(cm)"
   ]
  },
  {
   "cell_type": "code",
   "execution_count": 59,
   "metadata": {},
   "outputs": [
    {
     "name": "stdout",
     "output_type": "stream",
     "text": [
      "Alpha:  0.0\n"
     ]
    },
    {
     "name": "stderr",
     "output_type": "stream",
     "text": [
      "C:\\Anaconda3\\lib\\site-packages\\sklearn\\naive_bayes.py:472: UserWarning: alpha too small will result in numeric errors, setting alpha = 1.0e-10\n",
      "  'setting alpha = %.1e' % _ALPHA_MIN)\n"
     ]
    },
    {
     "name": "stdout",
     "output_type": "stream",
     "text": [
      "Score:  0.9783783783783784 \n",
      "\n",
      "Alpha:  0.1\n",
      "Score:  0.9756756756756757 \n",
      "\n",
      "Alpha:  0.2\n",
      "Score:  0.9756756756756757 \n",
      "\n",
      "Alpha:  0.30000000000000004\n",
      "Score:  0.9756756756756757 \n",
      "\n",
      "Alpha:  0.4\n",
      "Score:  0.9756756756756757 \n",
      "\n",
      "Alpha:  0.5\n",
      "Score:  0.9756756756756757 \n",
      "\n",
      "Alpha:  0.6000000000000001\n",
      "Score:  0.9756756756756757 \n",
      "\n",
      "Alpha:  0.7000000000000001\n",
      "Score:  0.9756756756756757 \n",
      "\n",
      "Alpha:  0.8\n",
      "Score:  0.9756756756756757 \n",
      "\n",
      "Alpha:  0.9\n",
      "Score:  0.9756756756756757 \n",
      "\n"
     ]
    }
   ],
   "source": [
    "import numpy as np\n",
    "# Create the list of alphas: alphas\n",
    "alphas = np.arange(0,1,0.1)\n",
    "\n",
    "# Define train_and_predict()\n",
    "def train_and_predict(alpha):\n",
    "    # Instantiate the classifier: nb_classifier\n",
    "    nb_classifier = MultinomialNB(alpha) # Alpha: additive (Laplace/Lidstone) smoothing parameter (0 for no smoothing).\n",
    "    # Fit to the training data\n",
    "    nb_classifier.fit(tfidf_train,y_train)\n",
    "    # Predict the labels: pred\n",
    "    pred = nb_classifier.predict(tfidf_test)\n",
    "    # Compute accuracy: score\n",
    "    score = metrics.accuracy_score(y_test, pred)\n",
    "    return score\n",
    "\n",
    "# Iterate over the alphas and print the corresponding score\n",
    "for alpha in alphas:\n",
    "    print('Alpha: ', alpha)\n",
    "    print('Score: ', train_and_predict(alpha),'\\n')"
   ]
  },
  {
   "cell_type": "markdown",
   "metadata": {},
   "source": [
    "# Wordcloud"
   ]
  },
  {
   "cell_type": "code",
   "execution_count": 60,
   "metadata": {},
   "outputs": [],
   "source": [
    "# Save the second document: doc\n",
    "word_freq = [j for i in corpus for j in i]"
   ]
  },
  {
   "cell_type": "code",
   "execution_count": 61,
   "metadata": {},
   "outputs": [],
   "source": [
    "# Sort the doc for frequency:\n",
    "bow_articles = sorted(word_freq, key=lambda w: w[1], reverse=True)\n",
    "\n",
    "# Create the defaultdict: total_word_count\n",
    "total_word_count = defaultdict(int)\n",
    "for word_id, word_count in itertools.chain.from_iterable(corpus):\n",
    "    total_word_count[word_id] += word_count\n",
    "\n",
    "# Create a sorted list from the defaultdict: sorted_word_count\n",
    "sorted_word_count = sorted(total_word_count.items(), key=lambda w: w[1], reverse=True) "
   ]
  },
  {
   "cell_type": "code",
   "execution_count": 62,
   "metadata": {},
   "outputs": [],
   "source": [
    "sorted_word_count_words = list()\n",
    "for word, word_count in sorted_word_count:\n",
    "    sorted_word_count_words.append((dictionary.get(word), word_count))"
   ]
  },
  {
   "cell_type": "code",
   "execution_count": 63,
   "metadata": {},
   "outputs": [],
   "source": [
    "words = [i[0] for i in sorted_word_count_words]"
   ]
  },
  {
   "cell_type": "code",
   "execution_count": 64,
   "metadata": {},
   "outputs": [],
   "source": [
    "freq = [i[1] for i in sorted_word_count_words]"
   ]
  },
  {
   "cell_type": "code",
   "execution_count": 65,
   "metadata": {},
   "outputs": [],
   "source": [
    "pd.DataFrame(words,freq).to_csv('wordcloud_data.csv')"
   ]
  },
  {
   "cell_type": "code",
   "execution_count": 66,
   "metadata": {},
   "outputs": [
    {
     "data": {
      "text/plain": [
       "<BarContainer object of 8 artists>"
      ]
     },
     "execution_count": 66,
     "metadata": {},
     "output_type": "execute_result"
    },
    {
     "data": {
      "image/png": "[encoded data removed]",
      "text/plain": [
       "<Figure size 432x288 with 1 Axes>"
      ]
     },
     "metadata": {},
     "output_type": "display_data"
    }
   ],
   "source": [
    "plt.bar(words[4:12], freq[4:12])"
   ]
  }
 ],
 "metadata": {
  "kernelspec": {
   "display_name": "Python 3",
   "language": "python",
   "name": "python3"
  },
  "language_info": {
   "codemirror_mode": {
    "name": "ipython",
    "version": 3
   },
   "file_extension": ".py",
   "mimetype": "text/x-python",
   "name": "python",
   "nbconvert_exporter": "python",
   "pygments_lexer": "ipython3",
   "version": "3.6.5"
  }
 },
 "nbformat": 4,
 "nbformat_minor": 2
}
